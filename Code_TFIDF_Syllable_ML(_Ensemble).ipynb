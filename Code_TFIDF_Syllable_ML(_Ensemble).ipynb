{
  "nbformat": 4,
  "nbformat_minor": 0,
  "metadata": {
    "colab": {
      "provenance": []
    },
    "kernelspec": {
      "name": "python3",
      "display_name": "Python 3"
    },
    "language_info": {
      "name": "python"
    }
  },
  "cells": [
    {
      "cell_type": "code",
      "execution_count": null,
      "metadata": {
        "id": "8J-jtPnMr52g",
        "colab": {
          "base_uri": "https://localhost:8080/"
        },
        "outputId": "d90a310a-a9d8-469c-df85-aae1ea5a96e3"
      },
      "outputs": [
        {
          "output_type": "stream",
          "name": "stdout",
          "text": [
            "Mounted at /content/drive\n"
          ]
        }
      ],
      "source": [
        "from google.colab import drive\n",
        "drive.mount('/content/drive')"
      ]
    },
    {
      "cell_type": "code",
      "source": [
        "!pip install emot\n",
        "!pip install emoji\n",
        "!pip install demoji\n",
        "!pip install punct\n",
        "!pip install contractions"
      ],
      "metadata": {
        "id": "gDLf0Ee5sIAv"
      },
      "execution_count": null,
      "outputs": []
    },
    {
      "cell_type": "code",
      "source": [
        "import nltk\n",
        "nltk.download('punkt')"
      ],
      "metadata": {
        "colab": {
          "base_uri": "https://localhost:8080/"
        },
        "id": "p-pB8ju2v65d",
        "outputId": "7d83b49a-baf5-4c8f-abfe-17a829276e6e"
      },
      "execution_count": null,
      "outputs": [
        {
          "output_type": "stream",
          "name": "stderr",
          "text": [
            "[nltk_data] Downloading package punkt to /root/nltk_data...\n",
            "[nltk_data]   Unzipping tokenizers/punkt.zip.\n"
          ]
        },
        {
          "output_type": "execute_result",
          "data": {
            "text/plain": [
              "True"
            ]
          },
          "metadata": {},
          "execution_count": 3
        }
      ]
    },
    {
      "cell_type": "code",
      "source": [
        "import pandas as pd"
      ],
      "metadata": {
        "id": "AAeZSa81Sr1Y"
      },
      "execution_count": null,
      "outputs": []
    },
    {
      "cell_type": "code",
      "source": [
        "nltk.download('omw-1.4')\n",
        "pd.set_option(\"max_colwidth\" ,220)\n",
        "wn = nltk.WordNetLemmatizer()\n",
        "nltk.download('wordnet')\n",
        "\n",
        "nltk.download('stopwords')\n",
        "stopwords = nltk.corpus.stopwords.words('english')"
      ],
      "metadata": {
        "colab": {
          "base_uri": "https://localhost:8080/"
        },
        "id": "jX7XsCVosMMc",
        "outputId": "e552b77e-633e-481c-ed60-d1dc95b466dd"
      },
      "execution_count": null,
      "outputs": [
        {
          "output_type": "stream",
          "name": "stderr",
          "text": [
            "[nltk_data] Downloading package omw-1.4 to /root/nltk_data...\n",
            "[nltk_data] Downloading package wordnet to /root/nltk_data...\n",
            "[nltk_data] Downloading package stopwords to /root/nltk_data...\n",
            "[nltk_data]   Unzipping corpora/stopwords.zip.\n"
          ]
        }
      ]
    },
    {
      "cell_type": "code",
      "source": [
        "from textblob import TextBlob\n",
        "import emot\n",
        "import nltk.data\n",
        "import numpy as np\n",
        "import re\n",
        "import time\n",
        "import string\n",
        "import emoji\n",
        "import demoji\n",
        "import nltk\n",
        "from nltk.corpus import stopwords\n",
        "from nltk import word_tokenize\n",
        "from nltk.corpus import stopwords\n",
        "import string\n",
        "import contractions\n",
        "from nltk.stem import WordNetLemmatizer\n",
        "from nltk.stem import PorterStemmer\n",
        "import re\n",
        "from nltk.tokenize import TweetTokenizer\n",
        "import regex\n",
        "import nltk\n",
        "from nltk.stem import SnowballStemmer\n",
        "demoji.download_codes()\n",
        "lemmatizer = WordNetLemmatizer()\n",
        "from sklearn.feature_extraction.text import TfidfVectorizer\n",
        "from sklearn.metrics import classification_report,accuracy_score\n",
        "from sklearn.svm import LinearSVC"
      ],
      "metadata": {
        "colab": {
          "base_uri": "https://localhost:8080/"
        },
        "id": "4D6GUSwBsKn5",
        "outputId": "7ecb73b2-b0e2-4cd5-9408-249ab7325c15"
      },
      "execution_count": null,
      "outputs": [
        {
          "output_type": "stream",
          "name": "stderr",
          "text": [
            "<ipython-input-6-06cbf3f148ab>:23: FutureWarning: The demoji.download_codes attribute is deprecated and will be removed from demoji in a future version. It is an unused attribute as emoji codes are now distributed directly with the demoji package.\n",
            "  demoji.download_codes()\n"
          ]
        }
      ]
    },
    {
      "cell_type": "markdown",
      "source": [
        "**Reading dataset**"
      ],
      "metadata": {
        "id": "rSzBhfw4k3Ku"
      }
    },
    {
      "cell_type": "code",
      "source": [
        "df_train=pd.read_csv('/content/drive/MyDrive/All_Task_Updated_DataSet/Fake/Task1/Fake_train.csv')\n",
        "df_dev=pd.read_csv('/content/drive/MyDrive/All_Task_Updated_DataSet/Fake/Task1/Fake_dev.csv')\n",
        "df_test=pd.read_csv('/content/drive/MyDrive/All_Task_Updated_DataSet/Fake/Task1/Fake_test_without_labels.csv')"
      ],
      "metadata": {
        "id": "n3AAjf0usEeQ"
      },
      "execution_count": null,
      "outputs": []
    },
    {
      "cell_type": "code",
      "source": [
        "df_train.head()"
      ],
      "metadata": {
        "colab": {
          "base_uri": "https://localhost:8080/",
          "height": 206
        },
        "id": "EU4hcL01vxOS",
        "outputId": "7f52c30c-497b-41f1-b3ce-a5e5c9b4eeab"
      },
      "execution_count": null,
      "outputs": [
        {
          "output_type": "execute_result",
          "data": {
            "text/plain": [
              "                                                                                                             text  \\\n",
              "0                                                                               നല്ല അവതരണം. സത്യം പുറത്തു വരട്ടെ   \n",
              "1                                                                                                     Masha Allah   \n",
              "2  അന്വേഷണം കഴിയുമ്പോൾ,. C. A. A. യ്ക്ക് എതിരായ കലാപം പോലെ ആകുമോ.. സ്വന്തം ആളെ തന്നെ പിടിച്ചു അകത്തിടേണ്ടി വരുമോ?   \n",
              "3                                                                 Illathentha avaru purath vidayittalland verenth   \n",
              "4                                                         Barana pakshathin matoru niyamam.nalla moyanth manthrii   \n",
              "\n",
              "      label  \n",
              "0      Fake  \n",
              "1      Fake  \n",
              "2      Fake  \n",
              "3      Fake  \n",
              "4  original  "
            ],
            "text/html": [
              "\n",
              "  <div id=\"df-5ae762b0-f847-4b66-b9df-b062863159eb\" class=\"colab-df-container\">\n",
              "    <div>\n",
              "<style scoped>\n",
              "    .dataframe tbody tr th:only-of-type {\n",
              "        vertical-align: middle;\n",
              "    }\n",
              "\n",
              "    .dataframe tbody tr th {\n",
              "        vertical-align: top;\n",
              "    }\n",
              "\n",
              "    .dataframe thead th {\n",
              "        text-align: right;\n",
              "    }\n",
              "</style>\n",
              "<table border=\"1\" class=\"dataframe\">\n",
              "  <thead>\n",
              "    <tr style=\"text-align: right;\">\n",
              "      <th></th>\n",
              "      <th>text</th>\n",
              "      <th>label</th>\n",
              "    </tr>\n",
              "  </thead>\n",
              "  <tbody>\n",
              "    <tr>\n",
              "      <th>0</th>\n",
              "      <td>നല്ല അവതരണം. സത്യം പുറത്തു വരട്ടെ</td>\n",
              "      <td>Fake</td>\n",
              "    </tr>\n",
              "    <tr>\n",
              "      <th>1</th>\n",
              "      <td>Masha Allah</td>\n",
              "      <td>Fake</td>\n",
              "    </tr>\n",
              "    <tr>\n",
              "      <th>2</th>\n",
              "      <td>അന്വേഷണം കഴിയുമ്പോൾ,. C. A. A. യ്ക്ക് എതിരായ കലാപം പോലെ ആകുമോ.. സ്വന്തം ആളെ തന്നെ പിടിച്ചു അകത്തിടേണ്ടി വരുമോ?</td>\n",
              "      <td>Fake</td>\n",
              "    </tr>\n",
              "    <tr>\n",
              "      <th>3</th>\n",
              "      <td>Illathentha avaru purath vidayittalland verenth</td>\n",
              "      <td>Fake</td>\n",
              "    </tr>\n",
              "    <tr>\n",
              "      <th>4</th>\n",
              "      <td>Barana pakshathin matoru niyamam.nalla moyanth manthrii</td>\n",
              "      <td>original</td>\n",
              "    </tr>\n",
              "  </tbody>\n",
              "</table>\n",
              "</div>\n",
              "    <div class=\"colab-df-buttons\">\n",
              "\n",
              "  <div class=\"colab-df-container\">\n",
              "    <button class=\"colab-df-convert\" onclick=\"convertToInteractive('df-5ae762b0-f847-4b66-b9df-b062863159eb')\"\n",
              "            title=\"Convert this dataframe to an interactive table.\"\n",
              "            style=\"display:none;\">\n",
              "\n",
              "  <svg xmlns=\"http://www.w3.org/2000/svg\" height=\"24px\" viewBox=\"0 -960 960 960\">\n",
              "    <path d=\"M120-120v-720h720v720H120Zm60-500h600v-160H180v160Zm220 220h160v-160H400v160Zm0 220h160v-160H400v160ZM180-400h160v-160H180v160Zm440 0h160v-160H620v160ZM180-180h160v-160H180v160Zm440 0h160v-160H620v160Z\"/>\n",
              "  </svg>\n",
              "    </button>\n",
              "\n",
              "  <style>\n",
              "    .colab-df-container {\n",
              "      display:flex;\n",
              "      gap: 12px;\n",
              "    }\n",
              "\n",
              "    .colab-df-convert {\n",
              "      background-color: #E8F0FE;\n",
              "      border: none;\n",
              "      border-radius: 50%;\n",
              "      cursor: pointer;\n",
              "      display: none;\n",
              "      fill: #1967D2;\n",
              "      height: 32px;\n",
              "      padding: 0 0 0 0;\n",
              "      width: 32px;\n",
              "    }\n",
              "\n",
              "    .colab-df-convert:hover {\n",
              "      background-color: #E2EBFA;\n",
              "      box-shadow: 0px 1px 2px rgba(60, 64, 67, 0.3), 0px 1px 3px 1px rgba(60, 64, 67, 0.15);\n",
              "      fill: #174EA6;\n",
              "    }\n",
              "\n",
              "    .colab-df-buttons div {\n",
              "      margin-bottom: 4px;\n",
              "    }\n",
              "\n",
              "    [theme=dark] .colab-df-convert {\n",
              "      background-color: #3B4455;\n",
              "      fill: #D2E3FC;\n",
              "    }\n",
              "\n",
              "    [theme=dark] .colab-df-convert:hover {\n",
              "      background-color: #434B5C;\n",
              "      box-shadow: 0px 1px 3px 1px rgba(0, 0, 0, 0.15);\n",
              "      filter: drop-shadow(0px 1px 2px rgba(0, 0, 0, 0.3));\n",
              "      fill: #FFFFFF;\n",
              "    }\n",
              "  </style>\n",
              "\n",
              "    <script>\n",
              "      const buttonEl =\n",
              "        document.querySelector('#df-5ae762b0-f847-4b66-b9df-b062863159eb button.colab-df-convert');\n",
              "      buttonEl.style.display =\n",
              "        google.colab.kernel.accessAllowed ? 'block' : 'none';\n",
              "\n",
              "      async function convertToInteractive(key) {\n",
              "        const element = document.querySelector('#df-5ae762b0-f847-4b66-b9df-b062863159eb');\n",
              "        const dataTable =\n",
              "          await google.colab.kernel.invokeFunction('convertToInteractive',\n",
              "                                                    [key], {});\n",
              "        if (!dataTable) return;\n",
              "\n",
              "        const docLinkHtml = 'Like what you see? Visit the ' +\n",
              "          '<a target=\"_blank\" href=https://colab.research.google.com/notebooks/data_table.ipynb>data table notebook</a>'\n",
              "          + ' to learn more about interactive tables.';\n",
              "        element.innerHTML = '';\n",
              "        dataTable['output_type'] = 'display_data';\n",
              "        await google.colab.output.renderOutput(dataTable, element);\n",
              "        const docLink = document.createElement('div');\n",
              "        docLink.innerHTML = docLinkHtml;\n",
              "        element.appendChild(docLink);\n",
              "      }\n",
              "    </script>\n",
              "  </div>\n",
              "\n",
              "\n",
              "<div id=\"df-805af6bc-1604-4529-8a0f-24d8295162cf\">\n",
              "  <button class=\"colab-df-quickchart\" onclick=\"quickchart('df-805af6bc-1604-4529-8a0f-24d8295162cf')\"\n",
              "            title=\"Suggest charts\"\n",
              "            style=\"display:none;\">\n",
              "\n",
              "<svg xmlns=\"http://www.w3.org/2000/svg\" height=\"24px\"viewBox=\"0 0 24 24\"\n",
              "     width=\"24px\">\n",
              "    <g>\n",
              "        <path d=\"M19 3H5c-1.1 0-2 .9-2 2v14c0 1.1.9 2 2 2h14c1.1 0 2-.9 2-2V5c0-1.1-.9-2-2-2zM9 17H7v-7h2v7zm4 0h-2V7h2v10zm4 0h-2v-4h2v4z\"/>\n",
              "    </g>\n",
              "</svg>\n",
              "  </button>\n",
              "\n",
              "<style>\n",
              "  .colab-df-quickchart {\n",
              "      --bg-color: #E8F0FE;\n",
              "      --fill-color: #1967D2;\n",
              "      --hover-bg-color: #E2EBFA;\n",
              "      --hover-fill-color: #174EA6;\n",
              "      --disabled-fill-color: #AAA;\n",
              "      --disabled-bg-color: #DDD;\n",
              "  }\n",
              "\n",
              "  [theme=dark] .colab-df-quickchart {\n",
              "      --bg-color: #3B4455;\n",
              "      --fill-color: #D2E3FC;\n",
              "      --hover-bg-color: #434B5C;\n",
              "      --hover-fill-color: #FFFFFF;\n",
              "      --disabled-bg-color: #3B4455;\n",
              "      --disabled-fill-color: #666;\n",
              "  }\n",
              "\n",
              "  .colab-df-quickchart {\n",
              "    background-color: var(--bg-color);\n",
              "    border: none;\n",
              "    border-radius: 50%;\n",
              "    cursor: pointer;\n",
              "    display: none;\n",
              "    fill: var(--fill-color);\n",
              "    height: 32px;\n",
              "    padding: 0;\n",
              "    width: 32px;\n",
              "  }\n",
              "\n",
              "  .colab-df-quickchart:hover {\n",
              "    background-color: var(--hover-bg-color);\n",
              "    box-shadow: 0 1px 2px rgba(60, 64, 67, 0.3), 0 1px 3px 1px rgba(60, 64, 67, 0.15);\n",
              "    fill: var(--button-hover-fill-color);\n",
              "  }\n",
              "\n",
              "  .colab-df-quickchart-complete:disabled,\n",
              "  .colab-df-quickchart-complete:disabled:hover {\n",
              "    background-color: var(--disabled-bg-color);\n",
              "    fill: var(--disabled-fill-color);\n",
              "    box-shadow: none;\n",
              "  }\n",
              "\n",
              "  .colab-df-spinner {\n",
              "    border: 2px solid var(--fill-color);\n",
              "    border-color: transparent;\n",
              "    border-bottom-color: var(--fill-color);\n",
              "    animation:\n",
              "      spin 1s steps(1) infinite;\n",
              "  }\n",
              "\n",
              "  @keyframes spin {\n",
              "    0% {\n",
              "      border-color: transparent;\n",
              "      border-bottom-color: var(--fill-color);\n",
              "      border-left-color: var(--fill-color);\n",
              "    }\n",
              "    20% {\n",
              "      border-color: transparent;\n",
              "      border-left-color: var(--fill-color);\n",
              "      border-top-color: var(--fill-color);\n",
              "    }\n",
              "    30% {\n",
              "      border-color: transparent;\n",
              "      border-left-color: var(--fill-color);\n",
              "      border-top-color: var(--fill-color);\n",
              "      border-right-color: var(--fill-color);\n",
              "    }\n",
              "    40% {\n",
              "      border-color: transparent;\n",
              "      border-right-color: var(--fill-color);\n",
              "      border-top-color: var(--fill-color);\n",
              "    }\n",
              "    60% {\n",
              "      border-color: transparent;\n",
              "      border-right-color: var(--fill-color);\n",
              "    }\n",
              "    80% {\n",
              "      border-color: transparent;\n",
              "      border-right-color: var(--fill-color);\n",
              "      border-bottom-color: var(--fill-color);\n",
              "    }\n",
              "    90% {\n",
              "      border-color: transparent;\n",
              "      border-bottom-color: var(--fill-color);\n",
              "    }\n",
              "  }\n",
              "</style>\n",
              "\n",
              "  <script>\n",
              "    async function quickchart(key) {\n",
              "      const quickchartButtonEl =\n",
              "        document.querySelector('#' + key + ' button');\n",
              "      quickchartButtonEl.disabled = true;  // To prevent multiple clicks.\n",
              "      quickchartButtonEl.classList.add('colab-df-spinner');\n",
              "      try {\n",
              "        const charts = await google.colab.kernel.invokeFunction(\n",
              "            'suggestCharts', [key], {});\n",
              "      } catch (error) {\n",
              "        console.error('Error during call to suggestCharts:', error);\n",
              "      }\n",
              "      quickchartButtonEl.classList.remove('colab-df-spinner');\n",
              "      quickchartButtonEl.classList.add('colab-df-quickchart-complete');\n",
              "    }\n",
              "    (() => {\n",
              "      let quickchartButtonEl =\n",
              "        document.querySelector('#df-805af6bc-1604-4529-8a0f-24d8295162cf button');\n",
              "      quickchartButtonEl.style.display =\n",
              "        google.colab.kernel.accessAllowed ? 'block' : 'none';\n",
              "    })();\n",
              "  </script>\n",
              "</div>\n",
              "\n",
              "    </div>\n",
              "  </div>\n"
            ],
            "application/vnd.google.colaboratory.intrinsic+json": {
              "type": "dataframe",
              "variable_name": "df_train",
              "summary": "{\n  \"name\": \"df_train\",\n  \"rows\": 3257,\n  \"fields\": [\n    {\n      \"column\": \"text\",\n      \"properties\": {\n        \"dtype\": \"string\",\n        \"num_unique_values\": 3186,\n        \"samples\": [\n          \"\\u0d24\\u0d3e\\u0d19\\u0d4d\\u0d15\\u0d7e.... \\u0d35\\u0d48\\u0d31\\u0d4b\\u0d33\\u0d3f\\u0d1c\\u0d3f\\u0d38\\u0d4d\\u0d31\\u0d4d \\u0d28\\u0d4d... \\u0d21\\u0d4b\\u0d15\\u0d4d\\u0d1f\\u0d7c \\u0d2e\\u0d3e\\u0d30\\u0d46... \\u0d28\\u0d3f\\u0d30\\u0d3e\\u0d36 \\u0d2a\\u0d46\\u0d1f\\u0d41\\u0d24\\u0d4d\\u0d24\\u0d3f \\u0d35\\u0d3e\\u0d15\\u0d4d\\u200c\\u0d38\\u0d3f\\u0d7b \\u0d15\\u0d23\\u0d4d\\u0d1f\\u0d41 \\u0d2a\\u0d3f\\u0d1f\\u0d3f\\u0d15\\u0d4d\\u0d15\\u0d41\\u0d28\\u0d4d\\u0d28\\u0d35\\u0d7c... \\u0d09\\u0d26\\u0d3e\\u0d38\\u0d40\\u0d28\\u0d24 \\u0d09\\u0d23\\u0d4d\\u0d1f\\u0d3e\\u0d15\\u0d4d\\u0d15\\u0d41\\u0d02... \\u0d07\\u0d24\\u0d41 \\u0d2a\\u0d4b\\u0d32\\u0d41\\u0d33\\u0d4d\\u0d33... \\u0d28\\u0d3f\\u0d32\\u0d2a\\u0d3e\\u0d1f\\u0d4d \\u0d35\\u0d47\\u0d23\\u0d4d\\u0d1f... \\u0d15\\u0d4a\\u0d31\\u0d4b\\u0d23 \\u0d2a\\u0d4b\\u0d15\\u0d41\\u0d28\\u0d4d\\u0d28\\u0d41 \\u0d09\\u0d23\\u0d4d\\u0d1f\\u0d4d \\u0d0e\\u0d19\\u0d4d\\u0d15\\u0d3f\\u0d7d \\u0d2a\\u0d4b\\u0d15\\u0d1f\\u0d4d\\u0d1f\\u0d46... \\u0d06\\u0d30\\u0d41\\u0d02 \\u0d24\\u0d1f\\u0d38\\u0d4d\\u0d38\\u0d02 \\u0d2a\\u0d31\\u0d2f\\u0d3f\\u0d32\\u0d4d\\u0d32...\",\n          \"\\u0d24\\u0d3e\\u0d19\\u0d4d\\u0d15\\u0d33\\u0d46 \\u0d15\\u0d41\\u0d31\\u0d4d\\u0d31\\u0d02 \\u0d2a\\u0d31\\u0d1e\\u0d4d\\u0d1e\\u0d3f\\u0d1f\\u0d4d\\u0d1f\\u0d4d \\u0d15\\u0d3e\\u0d30\\u0d4d\\u0d2f\\u0d2e\\u0d3f\\u0d32\\u0d4d\\u0d32 \\u0d28\\u0d32\\u0d4d\\u0d32 \\u0d15\\u0d3e\\u0d30\\u0d4d\\u0d2f\\u0d19\\u0d4d\\u0d19\\u0d33\\u0d46  \\u0d24\\u0d3f\\u0d30\\u0d3f\\u0d1a\\u0d4d\\u0d1a\\u0d31\\u0d3f\\u0d2f\\u0d3e\\u0d7b  \\u0d28\\u0d32\\u0d4d\\u0d32 \\u0d2e\\u0d28\\u0d41\\u0d37\\u0d4d\\u0d2f\\u0d7c\\u0d15\\u0d46  \\u0d15\\u0d34\\u0d3f\\u0d2f\\u0d42 \\u0d05\\u0d24\\u0d4d  \\u0d2a\\u0d4d\\u0d30\\u0d15\\u0d43\\u0d24\\u0d3f \\u0d28\\u0d3f\\u0d2f\\u0d2e\\u0d2e\\u0d3e\\u0d23\\u0d4d \\u0d08 \\u0d32\\u0d4b\\u0d15\\u0d24\\u0d4d\\u0d24\\u0d4d \\u0d05\\u0d24\\u0d4d \\u0d2a\\u0d4b\\u0d38\\u0d3f\\u0d31\\u0d4d\\u0d31\\u0d40\\u0d35\\u0d4d \\u0d2e\\u0d3e\\u0d24\\u0d4d\\u0d30\\u0d02 \\u0d2a\\u0d4b\\u0d30 \\u0d28\\u0d46\\u0d17\\u0d31\\u0d4d\\u0d31\\u0d40\\u0d35\\u0d4d \\u0d35\\u0d47\\u0d23\\u0d02 \\u0d05\\u0d24\\u0d41\\u0d02 \\u0d12\\u0d30\\u0d41 \\u0d2f\\u0d3e\\u0d25\\u0d3e\\u0d7c\\u0d24\\u0d4d\\u0d25\\u0d4d\\u0d2f\\u0d2e\\u0d3e\\u0d23\\u0d4d \\u0d05\\u0d24\\u0d41\\u0d15\\u0d4a\\u0d23\\u0d4d\\u0d1f\\u0d4d \\u0d24\\u0d3e\\u0d19\\u0d4d\\u0d15\\u0d33\\u0d46\\u0d2a\\u0d4d\\u0d2a\\u0d4b\\u0d32\\u0d41\\u0d33\\u0d4d\\u0d33\\u0d35\\u0d7c \\u0d08 \\u0d2d\\u0d42\\u0d2e\\u0d3f\\u0d2f\\u0d3f\\u0d7d \\u0d06\\u0d35\\u0d36\\u0d4d\\u0d2f\\u0d2e\\u0d3e\\u0d23\\u0d4d\",\n          \"\\u0d15\\u0d47\\u0d28\\u0d4d\\u0d26\\u0d4d\\u0d30\\u0d35\\u0d41\\u0d02 \\u0d15\\u0d23\\u0d15\\u0d4d\\u0d15\\u0d4d.... \\u0d38\\u0d02\\u0d38\\u0d4d\\u0d25\\u0d3e\\u0d28 \\u0d38\\u0d7c\\u0d15\\u0d4d\\u0d15\\u0d3e\\u0d31\\u0d41\\u0d02.... \\u0d07\\u0d35\\u0d2e\\u0d4d\\u0d2e\\u0d3e\\u0d30\\u0d46\\u0d2f\\u0d4a\\u0d15\\u0d4d\\u0d15 elect \\u0d1a\\u0d46\\u0d2f\\u0d4d\\u0d24 \\u0d28\\u0d2e\\u0d4d\\u0d2e\\u0d33\\u0d46 \\u0d2a\\u0d31\\u0d1e\\u0d4d\\u0d1e\\u0d7d \\u0d2e\\u0d24\\u0d3f....\"\n        ],\n        \"semantic_type\": \"\",\n        \"description\": \"\"\n      }\n    },\n    {\n      \"column\": \"label\",\n      \"properties\": {\n        \"dtype\": \"category\",\n        \"num_unique_values\": 2,\n        \"samples\": [\n          \"original\",\n          \"Fake\"\n        ],\n        \"semantic_type\": \"\",\n        \"description\": \"\"\n      }\n    }\n  ]\n}"
            }
          },
          "metadata": {},
          "execution_count": 9
        }
      ]
    },
    {
      "cell_type": "code",
      "source": [
        "df_train['label'].value_counts()"
      ],
      "metadata": {
        "colab": {
          "base_uri": "https://localhost:8080/"
        },
        "id": "FJ-GTp0yRca6",
        "outputId": "3be329e8-10a5-43e9-a44f-444a28900faf"
      },
      "execution_count": null,
      "outputs": [
        {
          "output_type": "execute_result",
          "data": {
            "text/plain": [
              "original    1658\n",
              "Fake        1599\n",
              "Name: label, dtype: int64"
            ]
          },
          "metadata": {},
          "execution_count": 10
        }
      ]
    },
    {
      "cell_type": "code",
      "source": [
        "df_dev['label'].value_counts()"
      ],
      "metadata": {
        "colab": {
          "base_uri": "https://localhost:8080/"
        },
        "id": "2-HwCfHrRdLI",
        "outputId": "874bc805-2757-47c1-edeb-c6c5a5150649"
      },
      "execution_count": null,
      "outputs": [
        {
          "output_type": "execute_result",
          "data": {
            "text/plain": [
              "original    409\n",
              "Fake        406\n",
              "Name: label, dtype: int64"
            ]
          },
          "metadata": {},
          "execution_count": 11
        }
      ]
    },
    {
      "cell_type": "markdown",
      "source": [
        "**Preprocessing**"
      ],
      "metadata": {
        "id": "qWVMakcck0Cx"
      }
    },
    {
      "cell_type": "code",
      "source": [
        "#emot_object = emot.core.emot()\n",
        "ps =PorterStemmer()\n",
        "lemmatiser = WordNetLemmatizer()\n",
        "english_stopwords = stopwords.words('english')\n",
        "exclude = set(string.punctuation)\n",
        "def preprocess(text):\n",
        "  #text=demoji.findall(df['Text'])\n",
        "  text = contractions.fix(text.lower(), slang=True)\n",
        "  text =re.sub(\"@ ?[A-Za-z0-9_]+\", \"\", text)\n",
        "  text= re.sub(r'\\d+', '', text)\n",
        "  text=re.sub(r'$', '', text)\n",
        "  text= re.sub(r'’','', text )\n",
        "  text=re.sub('<.*?>','',text)\n",
        "  text=re.sub(r'http\\S+', '', text)\n",
        "  #text=emoji.demojize(text, delimiters=(\" \", \" \"))\n",
        "  text = ''.join(ch for ch in text if ch not in exclude)\n",
        "  tokens = word_tokenize(text)\n",
        "  #print(\"Tokens:\", tokens)\n",
        "  text = [t for t in tokens if t not in english_stopwords]\n",
        "  text = \" \".join(text)\n",
        "  return text"
      ],
      "metadata": {
        "id": "zc2sZuZvuoqo"
      },
      "execution_count": null,
      "outputs": []
    },
    {
      "cell_type": "code",
      "source": [
        "#EXTRA PREPROCESSING CODE\n",
        "import pandas as pd\n",
        "import re\n",
        "# from indicnlp.tokenize import indic_tokenize\n",
        "\n",
        "def preprocess_code_mixed_text(text):\n",
        "    english_pattern = r'[a-zA-Z]+'\n",
        "    malayalam_pattern = r'[ം-ഃ അ-ഹ ാ-് ൦-൯]+'\n",
        "\n",
        "    english_segments = re.findall(english_pattern, text)\n",
        "    malayalam_segments = re.findall(malayalam_pattern, text)\n",
        "\n",
        "    processed_english_segments = [segment.lower() for segment in english_segments]\n",
        "\n",
        "    processed_malayalam_segments = []\n",
        "    for segment in malayalam_segments:\n",
        "        tokens = indic_tokenize.trivial_tokenize(segment)\n",
        "        processed_malayalam_segments.append(' '.join(tokens))\n",
        "\n",
        "    processed_text = ' '.join(processed_english_segments + processed_malayalam_segments)\n",
        "\n",
        "    return processed_text\n"
      ],
      "metadata": {
        "id": "PSEDIcJo9Qwe"
      },
      "execution_count": null,
      "outputs": []
    },
    {
      "cell_type": "code",
      "source": [
        "import emoji\n",
        "#import demoji\n",
        "#demoji.download_codes()\n",
        "def emo(text):\n",
        "  temp=emoji.demojize(text,delimiters=(\" \",\" \"))\n",
        "  temp=temp.replace(\"_\",\"  \")\n",
        "  return temp"
      ],
      "metadata": {
        "id": "FiWZTDjyurQX"
      },
      "execution_count": null,
      "outputs": []
    },
    {
      "cell_type": "code",
      "source": [
        "df_train['clean_text']=df_train[\"text\"].apply(lambda x:emo(x))\n",
        "df_train[\"clean_text\"]=df_train['clean_text'].apply(lambda X: preprocess(X))"
      ],
      "metadata": {
        "id": "I2S4o_BwutZo"
      },
      "execution_count": null,
      "outputs": []
    },
    {
      "cell_type": "code",
      "source": [
        "df_train.head()"
      ],
      "metadata": {
        "colab": {
          "base_uri": "https://localhost:8080/",
          "height": 224
        },
        "id": "le0Ln85XPjfI",
        "outputId": "88a90684-e919-40df-da5e-ba5e09a9ac12"
      },
      "execution_count": null,
      "outputs": [
        {
          "output_type": "execute_result",
          "data": {
            "text/plain": [
              "                                                                                                             text  \\\n",
              "0                                                                               നല്ല അവതരണം. സത്യം പുറത്തു വരട്ടെ   \n",
              "1                                                                                                     Masha Allah   \n",
              "2  അന്വേഷണം കഴിയുമ്പോൾ,. C. A. A. യ്ക്ക് എതിരായ കലാപം പോലെ ആകുമോ.. സ്വന്തം ആളെ തന്നെ പിടിച്ചു അകത്തിടേണ്ടി വരുമോ?   \n",
              "3                                                                 Illathentha avaru purath vidayittalland verenth   \n",
              "4                                                         Barana pakshathin matoru niyamam.nalla moyanth manthrii   \n",
              "\n",
              "      label  \\\n",
              "0      Fake   \n",
              "1      Fake   \n",
              "2      Fake   \n",
              "3      Fake   \n",
              "4  original   \n",
              "\n",
              "                                                                                           clean_text  \n",
              "0                                                                    നല്ല അവതരണം സത്യം പുറത്തു വരട്ടെ  \n",
              "1                                                                                         masha allah  \n",
              "2  അന്വേഷണം കഴിയുമ്പോൾ c യ്ക്ക് എതിരായ കലാപം പോലെ ആകുമോ സ്വന്തം ആളെ തന്നെ പിടിച്ചു അകത്തിടേണ്ടി വരുമോ  \n",
              "3                                                     illathentha avaru purath vidayittalland verenth  \n",
              "4                                              barana pakshathin matoru niyamamnalla moyanth manthrii  "
            ],
            "text/html": [
              "\n",
              "  <div id=\"df-93d047e2-1b2a-4864-bffd-2dc141c0613c\" class=\"colab-df-container\">\n",
              "    <div>\n",
              "<style scoped>\n",
              "    .dataframe tbody tr th:only-of-type {\n",
              "        vertical-align: middle;\n",
              "    }\n",
              "\n",
              "    .dataframe tbody tr th {\n",
              "        vertical-align: top;\n",
              "    }\n",
              "\n",
              "    .dataframe thead th {\n",
              "        text-align: right;\n",
              "    }\n",
              "</style>\n",
              "<table border=\"1\" class=\"dataframe\">\n",
              "  <thead>\n",
              "    <tr style=\"text-align: right;\">\n",
              "      <th></th>\n",
              "      <th>text</th>\n",
              "      <th>label</th>\n",
              "      <th>clean_text</th>\n",
              "    </tr>\n",
              "  </thead>\n",
              "  <tbody>\n",
              "    <tr>\n",
              "      <th>0</th>\n",
              "      <td>നല്ല അവതരണം. സത്യം പുറത്തു വരട്ടെ</td>\n",
              "      <td>Fake</td>\n",
              "      <td>നല്ല അവതരണം സത്യം പുറത്തു വരട്ടെ</td>\n",
              "    </tr>\n",
              "    <tr>\n",
              "      <th>1</th>\n",
              "      <td>Masha Allah</td>\n",
              "      <td>Fake</td>\n",
              "      <td>masha allah</td>\n",
              "    </tr>\n",
              "    <tr>\n",
              "      <th>2</th>\n",
              "      <td>അന്വേഷണം കഴിയുമ്പോൾ,. C. A. A. യ്ക്ക് എതിരായ കലാപം പോലെ ആകുമോ.. സ്വന്തം ആളെ തന്നെ പിടിച്ചു അകത്തിടേണ്ടി വരുമോ?</td>\n",
              "      <td>Fake</td>\n",
              "      <td>അന്വേഷണം കഴിയുമ്പോൾ c യ്ക്ക് എതിരായ കലാപം പോലെ ആകുമോ സ്വന്തം ആളെ തന്നെ പിടിച്ചു അകത്തിടേണ്ടി വരുമോ</td>\n",
              "    </tr>\n",
              "    <tr>\n",
              "      <th>3</th>\n",
              "      <td>Illathentha avaru purath vidayittalland verenth</td>\n",
              "      <td>Fake</td>\n",
              "      <td>illathentha avaru purath vidayittalland verenth</td>\n",
              "    </tr>\n",
              "    <tr>\n",
              "      <th>4</th>\n",
              "      <td>Barana pakshathin matoru niyamam.nalla moyanth manthrii</td>\n",
              "      <td>original</td>\n",
              "      <td>barana pakshathin matoru niyamamnalla moyanth manthrii</td>\n",
              "    </tr>\n",
              "  </tbody>\n",
              "</table>\n",
              "</div>\n",
              "    <div class=\"colab-df-buttons\">\n",
              "\n",
              "  <div class=\"colab-df-container\">\n",
              "    <button class=\"colab-df-convert\" onclick=\"convertToInteractive('df-93d047e2-1b2a-4864-bffd-2dc141c0613c')\"\n",
              "            title=\"Convert this dataframe to an interactive table.\"\n",
              "            style=\"display:none;\">\n",
              "\n",
              "  <svg xmlns=\"http://www.w3.org/2000/svg\" height=\"24px\" viewBox=\"0 -960 960 960\">\n",
              "    <path d=\"M120-120v-720h720v720H120Zm60-500h600v-160H180v160Zm220 220h160v-160H400v160Zm0 220h160v-160H400v160ZM180-400h160v-160H180v160Zm440 0h160v-160H620v160ZM180-180h160v-160H180v160Zm440 0h160v-160H620v160Z\"/>\n",
              "  </svg>\n",
              "    </button>\n",
              "\n",
              "  <style>\n",
              "    .colab-df-container {\n",
              "      display:flex;\n",
              "      gap: 12px;\n",
              "    }\n",
              "\n",
              "    .colab-df-convert {\n",
              "      background-color: #E8F0FE;\n",
              "      border: none;\n",
              "      border-radius: 50%;\n",
              "      cursor: pointer;\n",
              "      display: none;\n",
              "      fill: #1967D2;\n",
              "      height: 32px;\n",
              "      padding: 0 0 0 0;\n",
              "      width: 32px;\n",
              "    }\n",
              "\n",
              "    .colab-df-convert:hover {\n",
              "      background-color: #E2EBFA;\n",
              "      box-shadow: 0px 1px 2px rgba(60, 64, 67, 0.3), 0px 1px 3px 1px rgba(60, 64, 67, 0.15);\n",
              "      fill: #174EA6;\n",
              "    }\n",
              "\n",
              "    .colab-df-buttons div {\n",
              "      margin-bottom: 4px;\n",
              "    }\n",
              "\n",
              "    [theme=dark] .colab-df-convert {\n",
              "      background-color: #3B4455;\n",
              "      fill: #D2E3FC;\n",
              "    }\n",
              "\n",
              "    [theme=dark] .colab-df-convert:hover {\n",
              "      background-color: #434B5C;\n",
              "      box-shadow: 0px 1px 3px 1px rgba(0, 0, 0, 0.15);\n",
              "      filter: drop-shadow(0px 1px 2px rgba(0, 0, 0, 0.3));\n",
              "      fill: #FFFFFF;\n",
              "    }\n",
              "  </style>\n",
              "\n",
              "    <script>\n",
              "      const buttonEl =\n",
              "        document.querySelector('#df-93d047e2-1b2a-4864-bffd-2dc141c0613c button.colab-df-convert');\n",
              "      buttonEl.style.display =\n",
              "        google.colab.kernel.accessAllowed ? 'block' : 'none';\n",
              "\n",
              "      async function convertToInteractive(key) {\n",
              "        const element = document.querySelector('#df-93d047e2-1b2a-4864-bffd-2dc141c0613c');\n",
              "        const dataTable =\n",
              "          await google.colab.kernel.invokeFunction('convertToInteractive',\n",
              "                                                    [key], {});\n",
              "        if (!dataTable) return;\n",
              "\n",
              "        const docLinkHtml = 'Like what you see? Visit the ' +\n",
              "          '<a target=\"_blank\" href=https://colab.research.google.com/notebooks/data_table.ipynb>data table notebook</a>'\n",
              "          + ' to learn more about interactive tables.';\n",
              "        element.innerHTML = '';\n",
              "        dataTable['output_type'] = 'display_data';\n",
              "        await google.colab.output.renderOutput(dataTable, element);\n",
              "        const docLink = document.createElement('div');\n",
              "        docLink.innerHTML = docLinkHtml;\n",
              "        element.appendChild(docLink);\n",
              "      }\n",
              "    </script>\n",
              "  </div>\n",
              "\n",
              "\n",
              "<div id=\"df-ea6c30d0-342c-4244-be9a-58549ee69206\">\n",
              "  <button class=\"colab-df-quickchart\" onclick=\"quickchart('df-ea6c30d0-342c-4244-be9a-58549ee69206')\"\n",
              "            title=\"Suggest charts\"\n",
              "            style=\"display:none;\">\n",
              "\n",
              "<svg xmlns=\"http://www.w3.org/2000/svg\" height=\"24px\"viewBox=\"0 0 24 24\"\n",
              "     width=\"24px\">\n",
              "    <g>\n",
              "        <path d=\"M19 3H5c-1.1 0-2 .9-2 2v14c0 1.1.9 2 2 2h14c1.1 0 2-.9 2-2V5c0-1.1-.9-2-2-2zM9 17H7v-7h2v7zm4 0h-2V7h2v10zm4 0h-2v-4h2v4z\"/>\n",
              "    </g>\n",
              "</svg>\n",
              "  </button>\n",
              "\n",
              "<style>\n",
              "  .colab-df-quickchart {\n",
              "      --bg-color: #E8F0FE;\n",
              "      --fill-color: #1967D2;\n",
              "      --hover-bg-color: #E2EBFA;\n",
              "      --hover-fill-color: #174EA6;\n",
              "      --disabled-fill-color: #AAA;\n",
              "      --disabled-bg-color: #DDD;\n",
              "  }\n",
              "\n",
              "  [theme=dark] .colab-df-quickchart {\n",
              "      --bg-color: #3B4455;\n",
              "      --fill-color: #D2E3FC;\n",
              "      --hover-bg-color: #434B5C;\n",
              "      --hover-fill-color: #FFFFFF;\n",
              "      --disabled-bg-color: #3B4455;\n",
              "      --disabled-fill-color: #666;\n",
              "  }\n",
              "\n",
              "  .colab-df-quickchart {\n",
              "    background-color: var(--bg-color);\n",
              "    border: none;\n",
              "    border-radius: 50%;\n",
              "    cursor: pointer;\n",
              "    display: none;\n",
              "    fill: var(--fill-color);\n",
              "    height: 32px;\n",
              "    padding: 0;\n",
              "    width: 32px;\n",
              "  }\n",
              "\n",
              "  .colab-df-quickchart:hover {\n",
              "    background-color: var(--hover-bg-color);\n",
              "    box-shadow: 0 1px 2px rgba(60, 64, 67, 0.3), 0 1px 3px 1px rgba(60, 64, 67, 0.15);\n",
              "    fill: var(--button-hover-fill-color);\n",
              "  }\n",
              "\n",
              "  .colab-df-quickchart-complete:disabled,\n",
              "  .colab-df-quickchart-complete:disabled:hover {\n",
              "    background-color: var(--disabled-bg-color);\n",
              "    fill: var(--disabled-fill-color);\n",
              "    box-shadow: none;\n",
              "  }\n",
              "\n",
              "  .colab-df-spinner {\n",
              "    border: 2px solid var(--fill-color);\n",
              "    border-color: transparent;\n",
              "    border-bottom-color: var(--fill-color);\n",
              "    animation:\n",
              "      spin 1s steps(1) infinite;\n",
              "  }\n",
              "\n",
              "  @keyframes spin {\n",
              "    0% {\n",
              "      border-color: transparent;\n",
              "      border-bottom-color: var(--fill-color);\n",
              "      border-left-color: var(--fill-color);\n",
              "    }\n",
              "    20% {\n",
              "      border-color: transparent;\n",
              "      border-left-color: var(--fill-color);\n",
              "      border-top-color: var(--fill-color);\n",
              "    }\n",
              "    30% {\n",
              "      border-color: transparent;\n",
              "      border-left-color: var(--fill-color);\n",
              "      border-top-color: var(--fill-color);\n",
              "      border-right-color: var(--fill-color);\n",
              "    }\n",
              "    40% {\n",
              "      border-color: transparent;\n",
              "      border-right-color: var(--fill-color);\n",
              "      border-top-color: var(--fill-color);\n",
              "    }\n",
              "    60% {\n",
              "      border-color: transparent;\n",
              "      border-right-color: var(--fill-color);\n",
              "    }\n",
              "    80% {\n",
              "      border-color: transparent;\n",
              "      border-right-color: var(--fill-color);\n",
              "      border-bottom-color: var(--fill-color);\n",
              "    }\n",
              "    90% {\n",
              "      border-color: transparent;\n",
              "      border-bottom-color: var(--fill-color);\n",
              "    }\n",
              "  }\n",
              "</style>\n",
              "\n",
              "  <script>\n",
              "    async function quickchart(key) {\n",
              "      const quickchartButtonEl =\n",
              "        document.querySelector('#' + key + ' button');\n",
              "      quickchartButtonEl.disabled = true;  // To prevent multiple clicks.\n",
              "      quickchartButtonEl.classList.add('colab-df-spinner');\n",
              "      try {\n",
              "        const charts = await google.colab.kernel.invokeFunction(\n",
              "            'suggestCharts', [key], {});\n",
              "      } catch (error) {\n",
              "        console.error('Error during call to suggestCharts:', error);\n",
              "      }\n",
              "      quickchartButtonEl.classList.remove('colab-df-spinner');\n",
              "      quickchartButtonEl.classList.add('colab-df-quickchart-complete');\n",
              "    }\n",
              "    (() => {\n",
              "      let quickchartButtonEl =\n",
              "        document.querySelector('#df-ea6c30d0-342c-4244-be9a-58549ee69206 button');\n",
              "      quickchartButtonEl.style.display =\n",
              "        google.colab.kernel.accessAllowed ? 'block' : 'none';\n",
              "    })();\n",
              "  </script>\n",
              "</div>\n",
              "\n",
              "    </div>\n",
              "  </div>\n"
            ],
            "application/vnd.google.colaboratory.intrinsic+json": {
              "type": "dataframe",
              "variable_name": "df_train",
              "summary": "{\n  \"name\": \"df_train\",\n  \"rows\": 3257,\n  \"fields\": [\n    {\n      \"column\": \"text\",\n      \"properties\": {\n        \"dtype\": \"string\",\n        \"num_unique_values\": 3186,\n        \"samples\": [\n          \"\\u0d24\\u0d3e\\u0d19\\u0d4d\\u0d15\\u0d7e.... \\u0d35\\u0d48\\u0d31\\u0d4b\\u0d33\\u0d3f\\u0d1c\\u0d3f\\u0d38\\u0d4d\\u0d31\\u0d4d \\u0d28\\u0d4d... \\u0d21\\u0d4b\\u0d15\\u0d4d\\u0d1f\\u0d7c \\u0d2e\\u0d3e\\u0d30\\u0d46... \\u0d28\\u0d3f\\u0d30\\u0d3e\\u0d36 \\u0d2a\\u0d46\\u0d1f\\u0d41\\u0d24\\u0d4d\\u0d24\\u0d3f \\u0d35\\u0d3e\\u0d15\\u0d4d\\u200c\\u0d38\\u0d3f\\u0d7b \\u0d15\\u0d23\\u0d4d\\u0d1f\\u0d41 \\u0d2a\\u0d3f\\u0d1f\\u0d3f\\u0d15\\u0d4d\\u0d15\\u0d41\\u0d28\\u0d4d\\u0d28\\u0d35\\u0d7c... \\u0d09\\u0d26\\u0d3e\\u0d38\\u0d40\\u0d28\\u0d24 \\u0d09\\u0d23\\u0d4d\\u0d1f\\u0d3e\\u0d15\\u0d4d\\u0d15\\u0d41\\u0d02... \\u0d07\\u0d24\\u0d41 \\u0d2a\\u0d4b\\u0d32\\u0d41\\u0d33\\u0d4d\\u0d33... \\u0d28\\u0d3f\\u0d32\\u0d2a\\u0d3e\\u0d1f\\u0d4d \\u0d35\\u0d47\\u0d23\\u0d4d\\u0d1f... \\u0d15\\u0d4a\\u0d31\\u0d4b\\u0d23 \\u0d2a\\u0d4b\\u0d15\\u0d41\\u0d28\\u0d4d\\u0d28\\u0d41 \\u0d09\\u0d23\\u0d4d\\u0d1f\\u0d4d \\u0d0e\\u0d19\\u0d4d\\u0d15\\u0d3f\\u0d7d \\u0d2a\\u0d4b\\u0d15\\u0d1f\\u0d4d\\u0d1f\\u0d46... \\u0d06\\u0d30\\u0d41\\u0d02 \\u0d24\\u0d1f\\u0d38\\u0d4d\\u0d38\\u0d02 \\u0d2a\\u0d31\\u0d2f\\u0d3f\\u0d32\\u0d4d\\u0d32...\",\n          \"\\u0d24\\u0d3e\\u0d19\\u0d4d\\u0d15\\u0d33\\u0d46 \\u0d15\\u0d41\\u0d31\\u0d4d\\u0d31\\u0d02 \\u0d2a\\u0d31\\u0d1e\\u0d4d\\u0d1e\\u0d3f\\u0d1f\\u0d4d\\u0d1f\\u0d4d \\u0d15\\u0d3e\\u0d30\\u0d4d\\u0d2f\\u0d2e\\u0d3f\\u0d32\\u0d4d\\u0d32 \\u0d28\\u0d32\\u0d4d\\u0d32 \\u0d15\\u0d3e\\u0d30\\u0d4d\\u0d2f\\u0d19\\u0d4d\\u0d19\\u0d33\\u0d46  \\u0d24\\u0d3f\\u0d30\\u0d3f\\u0d1a\\u0d4d\\u0d1a\\u0d31\\u0d3f\\u0d2f\\u0d3e\\u0d7b  \\u0d28\\u0d32\\u0d4d\\u0d32 \\u0d2e\\u0d28\\u0d41\\u0d37\\u0d4d\\u0d2f\\u0d7c\\u0d15\\u0d46  \\u0d15\\u0d34\\u0d3f\\u0d2f\\u0d42 \\u0d05\\u0d24\\u0d4d  \\u0d2a\\u0d4d\\u0d30\\u0d15\\u0d43\\u0d24\\u0d3f \\u0d28\\u0d3f\\u0d2f\\u0d2e\\u0d2e\\u0d3e\\u0d23\\u0d4d \\u0d08 \\u0d32\\u0d4b\\u0d15\\u0d24\\u0d4d\\u0d24\\u0d4d \\u0d05\\u0d24\\u0d4d \\u0d2a\\u0d4b\\u0d38\\u0d3f\\u0d31\\u0d4d\\u0d31\\u0d40\\u0d35\\u0d4d \\u0d2e\\u0d3e\\u0d24\\u0d4d\\u0d30\\u0d02 \\u0d2a\\u0d4b\\u0d30 \\u0d28\\u0d46\\u0d17\\u0d31\\u0d4d\\u0d31\\u0d40\\u0d35\\u0d4d \\u0d35\\u0d47\\u0d23\\u0d02 \\u0d05\\u0d24\\u0d41\\u0d02 \\u0d12\\u0d30\\u0d41 \\u0d2f\\u0d3e\\u0d25\\u0d3e\\u0d7c\\u0d24\\u0d4d\\u0d25\\u0d4d\\u0d2f\\u0d2e\\u0d3e\\u0d23\\u0d4d \\u0d05\\u0d24\\u0d41\\u0d15\\u0d4a\\u0d23\\u0d4d\\u0d1f\\u0d4d \\u0d24\\u0d3e\\u0d19\\u0d4d\\u0d15\\u0d33\\u0d46\\u0d2a\\u0d4d\\u0d2a\\u0d4b\\u0d32\\u0d41\\u0d33\\u0d4d\\u0d33\\u0d35\\u0d7c \\u0d08 \\u0d2d\\u0d42\\u0d2e\\u0d3f\\u0d2f\\u0d3f\\u0d7d \\u0d06\\u0d35\\u0d36\\u0d4d\\u0d2f\\u0d2e\\u0d3e\\u0d23\\u0d4d\",\n          \"\\u0d15\\u0d47\\u0d28\\u0d4d\\u0d26\\u0d4d\\u0d30\\u0d35\\u0d41\\u0d02 \\u0d15\\u0d23\\u0d15\\u0d4d\\u0d15\\u0d4d.... \\u0d38\\u0d02\\u0d38\\u0d4d\\u0d25\\u0d3e\\u0d28 \\u0d38\\u0d7c\\u0d15\\u0d4d\\u0d15\\u0d3e\\u0d31\\u0d41\\u0d02.... \\u0d07\\u0d35\\u0d2e\\u0d4d\\u0d2e\\u0d3e\\u0d30\\u0d46\\u0d2f\\u0d4a\\u0d15\\u0d4d\\u0d15 elect \\u0d1a\\u0d46\\u0d2f\\u0d4d\\u0d24 \\u0d28\\u0d2e\\u0d4d\\u0d2e\\u0d33\\u0d46 \\u0d2a\\u0d31\\u0d1e\\u0d4d\\u0d1e\\u0d7d \\u0d2e\\u0d24\\u0d3f....\"\n        ],\n        \"semantic_type\": \"\",\n        \"description\": \"\"\n      }\n    },\n    {\n      \"column\": \"label\",\n      \"properties\": {\n        \"dtype\": \"category\",\n        \"num_unique_values\": 2,\n        \"samples\": [\n          \"original\",\n          \"Fake\"\n        ],\n        \"semantic_type\": \"\",\n        \"description\": \"\"\n      }\n    },\n    {\n      \"column\": \"clean_text\",\n      \"properties\": {\n        \"dtype\": \"string\",\n        \"num_unique_values\": 3163,\n        \"samples\": [\n          \"puttile puru chanal\",\n          \"delta \\u0d24\\u0d3f\\u0d30\\u0d41\\u0d35\\u0d3e\\u0d24\\u0d3f\\u0d30\"\n        ],\n        \"semantic_type\": \"\",\n        \"description\": \"\"\n      }\n    }\n  ]\n}"
            }
          },
          "metadata": {},
          "execution_count": 16
        }
      ]
    },
    {
      "cell_type": "code",
      "source": [
        "df_train.to_csv('/content/drive/MyDrive/cleaned_data1.csv')"
      ],
      "metadata": {
        "id": "D5pcPp46ShGK"
      },
      "execution_count": null,
      "outputs": []
    },
    {
      "cell_type": "code",
      "source": [
        "cdata=pd.read_csv('/content/drive/MyDrive/cleaned_data1.csv')"
      ],
      "metadata": {
        "id": "N744XpV7Sp_i"
      },
      "execution_count": null,
      "outputs": []
    },
    {
      "cell_type": "code",
      "source": [
        "cdata=cdata.drop('text', axis=1)"
      ],
      "metadata": {
        "id": "oMw1D02tSu-C"
      },
      "execution_count": null,
      "outputs": []
    },
    {
      "cell_type": "code",
      "source": [
        "cdata.to_csv('/content/drive/MyDrive/cleaned_data2.csv')"
      ],
      "metadata": {
        "id": "dP9co5A-S_oX"
      },
      "execution_count": null,
      "outputs": []
    },
    {
      "cell_type": "code",
      "source": [
        "cdata"
      ],
      "metadata": {
        "id": "Kgz5UBWjTLar",
        "outputId": "9f15621e-7839-420a-99dd-0046b836a12d",
        "colab": {
          "base_uri": "https://localhost:8080/",
          "height": 424
        }
      },
      "execution_count": null,
      "outputs": [
        {
          "output_type": "execute_result",
          "data": {
            "text/plain": [
              "      Unnamed: 0     label  \\\n",
              "0              0      Fake   \n",
              "1              1      Fake   \n",
              "2              2      Fake   \n",
              "3              3      Fake   \n",
              "4              4  original   \n",
              "...          ...       ...   \n",
              "3252        3252  original   \n",
              "3253        3253  original   \n",
              "3254        3254  original   \n",
              "3255        3255  original   \n",
              "3256        3256  original   \n",
              "\n",
              "                                                                                                clean_text  \n",
              "0                                                                         നല്ല അവതരണം സത്യം പുറത്തു വരട്ടെ  \n",
              "1                                                                                              masha allah  \n",
              "2       അന്വേഷണം കഴിയുമ്പോൾ c യ്ക്ക് എതിരായ കലാപം പോലെ ആകുമോ സ്വന്തം ആളെ തന്നെ പിടിച്ചു അകത്തിടേണ്ടി വരുമോ  \n",
              "3                                                          illathentha avaru purath vidayittalland verenth  \n",
              "4                                                   barana pakshathin matoru niyamamnalla moyanth manthrii  \n",
              "...                                                                                                    ...  \n",
              "3252  വീണാ ജോർജ് എന്ന ഒരു ആരോഗ്യ മന്ത്രി വന്നതിനു ശേഷം കേരളത്തിന്റെ ആരോഗ്യ സ്ഥിതി വളരെ മോശവും പ്രഹസനവുമാണ്  \n",
              "3253                                          ഇതാണ് പിണുവാതിര face tears joy face tears joy face tears joy  \n",
              "3254                                                                   കേസ് എടുക്കണം hundred points thumbs  \n",
              "3255                                                             എല്ലാത്തിനേം സോപ്പിട്ട് കളിപ്പിച്ച് വിടണം  \n",
              "3256                                                     day day leaders r acting like fool devils country  \n",
              "\n",
              "[3257 rows x 3 columns]"
            ],
            "text/html": [
              "\n",
              "  <div id=\"df-dda53548-1777-4a67-90a3-28ff71b04eb5\" class=\"colab-df-container\">\n",
              "    <div>\n",
              "<style scoped>\n",
              "    .dataframe tbody tr th:only-of-type {\n",
              "        vertical-align: middle;\n",
              "    }\n",
              "\n",
              "    .dataframe tbody tr th {\n",
              "        vertical-align: top;\n",
              "    }\n",
              "\n",
              "    .dataframe thead th {\n",
              "        text-align: right;\n",
              "    }\n",
              "</style>\n",
              "<table border=\"1\" class=\"dataframe\">\n",
              "  <thead>\n",
              "    <tr style=\"text-align: right;\">\n",
              "      <th></th>\n",
              "      <th>Unnamed: 0</th>\n",
              "      <th>label</th>\n",
              "      <th>clean_text</th>\n",
              "    </tr>\n",
              "  </thead>\n",
              "  <tbody>\n",
              "    <tr>\n",
              "      <th>0</th>\n",
              "      <td>0</td>\n",
              "      <td>Fake</td>\n",
              "      <td>നല്ല അവതരണം സത്യം പുറത്തു വരട്ടെ</td>\n",
              "    </tr>\n",
              "    <tr>\n",
              "      <th>1</th>\n",
              "      <td>1</td>\n",
              "      <td>Fake</td>\n",
              "      <td>masha allah</td>\n",
              "    </tr>\n",
              "    <tr>\n",
              "      <th>2</th>\n",
              "      <td>2</td>\n",
              "      <td>Fake</td>\n",
              "      <td>അന്വേഷണം കഴിയുമ്പോൾ c യ്ക്ക് എതിരായ കലാപം പോലെ ആകുമോ സ്വന്തം ആളെ തന്നെ പിടിച്ചു അകത്തിടേണ്ടി വരുമോ</td>\n",
              "    </tr>\n",
              "    <tr>\n",
              "      <th>3</th>\n",
              "      <td>3</td>\n",
              "      <td>Fake</td>\n",
              "      <td>illathentha avaru purath vidayittalland verenth</td>\n",
              "    </tr>\n",
              "    <tr>\n",
              "      <th>4</th>\n",
              "      <td>4</td>\n",
              "      <td>original</td>\n",
              "      <td>barana pakshathin matoru niyamamnalla moyanth manthrii</td>\n",
              "    </tr>\n",
              "    <tr>\n",
              "      <th>...</th>\n",
              "      <td>...</td>\n",
              "      <td>...</td>\n",
              "      <td>...</td>\n",
              "    </tr>\n",
              "    <tr>\n",
              "      <th>3252</th>\n",
              "      <td>3252</td>\n",
              "      <td>original</td>\n",
              "      <td>വീണാ ജോർജ് എന്ന ഒരു ആരോഗ്യ മന്ത്രി വന്നതിനു ശേഷം കേരളത്തിന്റെ ആരോഗ്യ സ്ഥിതി വളരെ മോശവും പ്രഹസനവുമാണ്</td>\n",
              "    </tr>\n",
              "    <tr>\n",
              "      <th>3253</th>\n",
              "      <td>3253</td>\n",
              "      <td>original</td>\n",
              "      <td>ഇതാണ് പിണുവാതിര face tears joy face tears joy face tears joy</td>\n",
              "    </tr>\n",
              "    <tr>\n",
              "      <th>3254</th>\n",
              "      <td>3254</td>\n",
              "      <td>original</td>\n",
              "      <td>കേസ് എടുക്കണം hundred points thumbs</td>\n",
              "    </tr>\n",
              "    <tr>\n",
              "      <th>3255</th>\n",
              "      <td>3255</td>\n",
              "      <td>original</td>\n",
              "      <td>എല്ലാത്തിനേം സോപ്പിട്ട് കളിപ്പിച്ച് വിടണം</td>\n",
              "    </tr>\n",
              "    <tr>\n",
              "      <th>3256</th>\n",
              "      <td>3256</td>\n",
              "      <td>original</td>\n",
              "      <td>day day leaders r acting like fool devils country</td>\n",
              "    </tr>\n",
              "  </tbody>\n",
              "</table>\n",
              "<p>3257 rows × 3 columns</p>\n",
              "</div>\n",
              "    <div class=\"colab-df-buttons\">\n",
              "\n",
              "  <div class=\"colab-df-container\">\n",
              "    <button class=\"colab-df-convert\" onclick=\"convertToInteractive('df-dda53548-1777-4a67-90a3-28ff71b04eb5')\"\n",
              "            title=\"Convert this dataframe to an interactive table.\"\n",
              "            style=\"display:none;\">\n",
              "\n",
              "  <svg xmlns=\"http://www.w3.org/2000/svg\" height=\"24px\" viewBox=\"0 -960 960 960\">\n",
              "    <path d=\"M120-120v-720h720v720H120Zm60-500h600v-160H180v160Zm220 220h160v-160H400v160Zm0 220h160v-160H400v160ZM180-400h160v-160H180v160Zm440 0h160v-160H620v160ZM180-180h160v-160H180v160Zm440 0h160v-160H620v160Z\"/>\n",
              "  </svg>\n",
              "    </button>\n",
              "\n",
              "  <style>\n",
              "    .colab-df-container {\n",
              "      display:flex;\n",
              "      gap: 12px;\n",
              "    }\n",
              "\n",
              "    .colab-df-convert {\n",
              "      background-color: #E8F0FE;\n",
              "      border: none;\n",
              "      border-radius: 50%;\n",
              "      cursor: pointer;\n",
              "      display: none;\n",
              "      fill: #1967D2;\n",
              "      height: 32px;\n",
              "      padding: 0 0 0 0;\n",
              "      width: 32px;\n",
              "    }\n",
              "\n",
              "    .colab-df-convert:hover {\n",
              "      background-color: #E2EBFA;\n",
              "      box-shadow: 0px 1px 2px rgba(60, 64, 67, 0.3), 0px 1px 3px 1px rgba(60, 64, 67, 0.15);\n",
              "      fill: #174EA6;\n",
              "    }\n",
              "\n",
              "    .colab-df-buttons div {\n",
              "      margin-bottom: 4px;\n",
              "    }\n",
              "\n",
              "    [theme=dark] .colab-df-convert {\n",
              "      background-color: #3B4455;\n",
              "      fill: #D2E3FC;\n",
              "    }\n",
              "\n",
              "    [theme=dark] .colab-df-convert:hover {\n",
              "      background-color: #434B5C;\n",
              "      box-shadow: 0px 1px 3px 1px rgba(0, 0, 0, 0.15);\n",
              "      filter: drop-shadow(0px 1px 2px rgba(0, 0, 0, 0.3));\n",
              "      fill: #FFFFFF;\n",
              "    }\n",
              "  </style>\n",
              "\n",
              "    <script>\n",
              "      const buttonEl =\n",
              "        document.querySelector('#df-dda53548-1777-4a67-90a3-28ff71b04eb5 button.colab-df-convert');\n",
              "      buttonEl.style.display =\n",
              "        google.colab.kernel.accessAllowed ? 'block' : 'none';\n",
              "\n",
              "      async function convertToInteractive(key) {\n",
              "        const element = document.querySelector('#df-dda53548-1777-4a67-90a3-28ff71b04eb5');\n",
              "        const dataTable =\n",
              "          await google.colab.kernel.invokeFunction('convertToInteractive',\n",
              "                                                    [key], {});\n",
              "        if (!dataTable) return;\n",
              "\n",
              "        const docLinkHtml = 'Like what you see? Visit the ' +\n",
              "          '<a target=\"_blank\" href=https://colab.research.google.com/notebooks/data_table.ipynb>data table notebook</a>'\n",
              "          + ' to learn more about interactive tables.';\n",
              "        element.innerHTML = '';\n",
              "        dataTable['output_type'] = 'display_data';\n",
              "        await google.colab.output.renderOutput(dataTable, element);\n",
              "        const docLink = document.createElement('div');\n",
              "        docLink.innerHTML = docLinkHtml;\n",
              "        element.appendChild(docLink);\n",
              "      }\n",
              "    </script>\n",
              "  </div>\n",
              "\n",
              "\n",
              "<div id=\"df-a64edea8-2b58-4a23-b06d-104bc0b2bfe2\">\n",
              "  <button class=\"colab-df-quickchart\" onclick=\"quickchart('df-a64edea8-2b58-4a23-b06d-104bc0b2bfe2')\"\n",
              "            title=\"Suggest charts\"\n",
              "            style=\"display:none;\">\n",
              "\n",
              "<svg xmlns=\"http://www.w3.org/2000/svg\" height=\"24px\"viewBox=\"0 0 24 24\"\n",
              "     width=\"24px\">\n",
              "    <g>\n",
              "        <path d=\"M19 3H5c-1.1 0-2 .9-2 2v14c0 1.1.9 2 2 2h14c1.1 0 2-.9 2-2V5c0-1.1-.9-2-2-2zM9 17H7v-7h2v7zm4 0h-2V7h2v10zm4 0h-2v-4h2v4z\"/>\n",
              "    </g>\n",
              "</svg>\n",
              "  </button>\n",
              "\n",
              "<style>\n",
              "  .colab-df-quickchart {\n",
              "      --bg-color: #E8F0FE;\n",
              "      --fill-color: #1967D2;\n",
              "      --hover-bg-color: #E2EBFA;\n",
              "      --hover-fill-color: #174EA6;\n",
              "      --disabled-fill-color: #AAA;\n",
              "      --disabled-bg-color: #DDD;\n",
              "  }\n",
              "\n",
              "  [theme=dark] .colab-df-quickchart {\n",
              "      --bg-color: #3B4455;\n",
              "      --fill-color: #D2E3FC;\n",
              "      --hover-bg-color: #434B5C;\n",
              "      --hover-fill-color: #FFFFFF;\n",
              "      --disabled-bg-color: #3B4455;\n",
              "      --disabled-fill-color: #666;\n",
              "  }\n",
              "\n",
              "  .colab-df-quickchart {\n",
              "    background-color: var(--bg-color);\n",
              "    border: none;\n",
              "    border-radius: 50%;\n",
              "    cursor: pointer;\n",
              "    display: none;\n",
              "    fill: var(--fill-color);\n",
              "    height: 32px;\n",
              "    padding: 0;\n",
              "    width: 32px;\n",
              "  }\n",
              "\n",
              "  .colab-df-quickchart:hover {\n",
              "    background-color: var(--hover-bg-color);\n",
              "    box-shadow: 0 1px 2px rgba(60, 64, 67, 0.3), 0 1px 3px 1px rgba(60, 64, 67, 0.15);\n",
              "    fill: var(--button-hover-fill-color);\n",
              "  }\n",
              "\n",
              "  .colab-df-quickchart-complete:disabled,\n",
              "  .colab-df-quickchart-complete:disabled:hover {\n",
              "    background-color: var(--disabled-bg-color);\n",
              "    fill: var(--disabled-fill-color);\n",
              "    box-shadow: none;\n",
              "  }\n",
              "\n",
              "  .colab-df-spinner {\n",
              "    border: 2px solid var(--fill-color);\n",
              "    border-color: transparent;\n",
              "    border-bottom-color: var(--fill-color);\n",
              "    animation:\n",
              "      spin 1s steps(1) infinite;\n",
              "  }\n",
              "\n",
              "  @keyframes spin {\n",
              "    0% {\n",
              "      border-color: transparent;\n",
              "      border-bottom-color: var(--fill-color);\n",
              "      border-left-color: var(--fill-color);\n",
              "    }\n",
              "    20% {\n",
              "      border-color: transparent;\n",
              "      border-left-color: var(--fill-color);\n",
              "      border-top-color: var(--fill-color);\n",
              "    }\n",
              "    30% {\n",
              "      border-color: transparent;\n",
              "      border-left-color: var(--fill-color);\n",
              "      border-top-color: var(--fill-color);\n",
              "      border-right-color: var(--fill-color);\n",
              "    }\n",
              "    40% {\n",
              "      border-color: transparent;\n",
              "      border-right-color: var(--fill-color);\n",
              "      border-top-color: var(--fill-color);\n",
              "    }\n",
              "    60% {\n",
              "      border-color: transparent;\n",
              "      border-right-color: var(--fill-color);\n",
              "    }\n",
              "    80% {\n",
              "      border-color: transparent;\n",
              "      border-right-color: var(--fill-color);\n",
              "      border-bottom-color: var(--fill-color);\n",
              "    }\n",
              "    90% {\n",
              "      border-color: transparent;\n",
              "      border-bottom-color: var(--fill-color);\n",
              "    }\n",
              "  }\n",
              "</style>\n",
              "\n",
              "  <script>\n",
              "    async function quickchart(key) {\n",
              "      const quickchartButtonEl =\n",
              "        document.querySelector('#' + key + ' button');\n",
              "      quickchartButtonEl.disabled = true;  // To prevent multiple clicks.\n",
              "      quickchartButtonEl.classList.add('colab-df-spinner');\n",
              "      try {\n",
              "        const charts = await google.colab.kernel.invokeFunction(\n",
              "            'suggestCharts', [key], {});\n",
              "      } catch (error) {\n",
              "        console.error('Error during call to suggestCharts:', error);\n",
              "      }\n",
              "      quickchartButtonEl.classList.remove('colab-df-spinner');\n",
              "      quickchartButtonEl.classList.add('colab-df-quickchart-complete');\n",
              "    }\n",
              "    (() => {\n",
              "      let quickchartButtonEl =\n",
              "        document.querySelector('#df-a64edea8-2b58-4a23-b06d-104bc0b2bfe2 button');\n",
              "      quickchartButtonEl.style.display =\n",
              "        google.colab.kernel.accessAllowed ? 'block' : 'none';\n",
              "    })();\n",
              "  </script>\n",
              "</div>\n",
              "\n",
              "  <div id=\"id_ced98736-3c76-4b86-8d1b-f8296a38cbb7\">\n",
              "    <style>\n",
              "      .colab-df-generate {\n",
              "        background-color: #E8F0FE;\n",
              "        border: none;\n",
              "        border-radius: 50%;\n",
              "        cursor: pointer;\n",
              "        display: none;\n",
              "        fill: #1967D2;\n",
              "        height: 32px;\n",
              "        padding: 0 0 0 0;\n",
              "        width: 32px;\n",
              "      }\n",
              "\n",
              "      .colab-df-generate:hover {\n",
              "        background-color: #E2EBFA;\n",
              "        box-shadow: 0px 1px 2px rgba(60, 64, 67, 0.3), 0px 1px 3px 1px rgba(60, 64, 67, 0.15);\n",
              "        fill: #174EA6;\n",
              "      }\n",
              "\n",
              "      [theme=dark] .colab-df-generate {\n",
              "        background-color: #3B4455;\n",
              "        fill: #D2E3FC;\n",
              "      }\n",
              "\n",
              "      [theme=dark] .colab-df-generate:hover {\n",
              "        background-color: #434B5C;\n",
              "        box-shadow: 0px 1px 3px 1px rgba(0, 0, 0, 0.15);\n",
              "        filter: drop-shadow(0px 1px 2px rgba(0, 0, 0, 0.3));\n",
              "        fill: #FFFFFF;\n",
              "      }\n",
              "    </style>\n",
              "    <button class=\"colab-df-generate\" onclick=\"generateWithVariable('cdata')\"\n",
              "            title=\"Generate code using this dataframe.\"\n",
              "            style=\"display:none;\">\n",
              "\n",
              "  <svg xmlns=\"http://www.w3.org/2000/svg\" height=\"24px\"viewBox=\"0 0 24 24\"\n",
              "       width=\"24px\">\n",
              "    <path d=\"M7,19H8.4L18.45,9,17,7.55,7,17.6ZM5,21V16.75L18.45,3.32a2,2,0,0,1,2.83,0l1.4,1.43a1.91,1.91,0,0,1,.58,1.4,1.91,1.91,0,0,1-.58,1.4L9.25,21ZM18.45,9,17,7.55Zm-12,3A5.31,5.31,0,0,0,4.9,8.1,5.31,5.31,0,0,0,1,6.5,5.31,5.31,0,0,0,4.9,4.9,5.31,5.31,0,0,0,6.5,1,5.31,5.31,0,0,0,8.1,4.9,5.31,5.31,0,0,0,12,6.5,5.46,5.46,0,0,0,6.5,12Z\"/>\n",
              "  </svg>\n",
              "    </button>\n",
              "    <script>\n",
              "      (() => {\n",
              "      const buttonEl =\n",
              "        document.querySelector('#id_ced98736-3c76-4b86-8d1b-f8296a38cbb7 button.colab-df-generate');\n",
              "      buttonEl.style.display =\n",
              "        google.colab.kernel.accessAllowed ? 'block' : 'none';\n",
              "\n",
              "      buttonEl.onclick = () => {\n",
              "        google.colab.notebook.generateWithVariable('cdata');\n",
              "      }\n",
              "      })();\n",
              "    </script>\n",
              "  </div>\n",
              "\n",
              "    </div>\n",
              "  </div>\n"
            ],
            "application/vnd.google.colaboratory.intrinsic+json": {
              "type": "dataframe",
              "variable_name": "cdata",
              "summary": "{\n  \"name\": \"cdata\",\n  \"rows\": 3257,\n  \"fields\": [\n    {\n      \"column\": \"Unnamed: 0\",\n      \"properties\": {\n        \"dtype\": \"number\",\n        \"std\": 940,\n        \"min\": 0,\n        \"max\": 3256,\n        \"num_unique_values\": 3257,\n        \"samples\": [\n          2829,\n          134,\n          2299\n        ],\n        \"semantic_type\": \"\",\n        \"description\": \"\"\n      }\n    },\n    {\n      \"column\": \"label\",\n      \"properties\": {\n        \"dtype\": \"category\",\n        \"num_unique_values\": 2,\n        \"samples\": [\n          \"original\",\n          \"Fake\"\n        ],\n        \"semantic_type\": \"\",\n        \"description\": \"\"\n      }\n    },\n    {\n      \"column\": \"clean_text\",\n      \"properties\": {\n        \"dtype\": \"string\",\n        \"num_unique_values\": 3162,\n        \"samples\": [\n          \"brainwashed population controlled megalomaniac party headed dictator china role model cpm kerala headed vijayan\",\n          \"\\u0d2a\\u0d4a\\u0d33\\u0d3f\\u0d1a\\u0d4d\\u0d1a\\u0d41 \\u0d05\\u0d1a\\u0d4d\\u0d1a\\u0d3e\\u0d2f\\u0d4b \\u0d07\\u0d1f\\u0d15\\u0d4d\\u0d15\\u0d4d \\u0d07\\u0d19\\u0d4d\\u0d19\\u0d28\\u0d24\\u0d4d\\u0d24\\u0d46 \\u0d28\\u0d32\\u0d4d\\u0d32 \\u0d28\\u0d32\\u0d4d\\u0d32 \\u0d35\\u0d3e\\u0d7c\\u0d24\\u0d4d\\u0d24\\u0d2f\\u0d41\\u0d02 \\u0d15\\u0d4a\\u0d1f\\u0d41\\u0d15\\u0d4d\\u0d15\\u0d4d\"\n        ],\n        \"semantic_type\": \"\",\n        \"description\": \"\"\n      }\n    }\n  ]\n}"
            }
          },
          "metadata": {},
          "execution_count": 25
        }
      ]
    },
    {
      "cell_type": "code",
      "source": [
        "df_dev['clean_text']=df_dev[\"text\"].apply(lambda x:emo(x))\n",
        "df_dev[\"clean_text\"]=df_dev['clean_text'].apply(lambda X: preprocess(X))"
      ],
      "metadata": {
        "id": "ApyLtgyGuwdF"
      },
      "execution_count": null,
      "outputs": []
    },
    {
      "cell_type": "code",
      "source": [
        "df_test['clean_text']=df_test[\"text\"].apply(lambda x:emo(x))\n",
        "df_test[\"clean_text\"]=df_test['clean_text'].apply(lambda X: preprocess(X))"
      ],
      "metadata": {
        "id": "mtFElKJZ8-7a"
      },
      "execution_count": null,
      "outputs": []
    },
    {
      "cell_type": "markdown",
      "source": [
        "**Feature Extraction:**TF-IDF of Syllable ngrams"
      ],
      "metadata": {
        "id": "2Ak39513k9iu"
      }
    },
    {
      "cell_type": "code",
      "execution_count": null,
      "metadata": {
        "id": "2d05f0f5"
      },
      "outputs": [],
      "source": [
        "!git clone https://github.com/libindic/syllabalizer.git\n",
        "%cd syllabalizer\n",
        "%run setup.py sdist"
      ]
    },
    {
      "cell_type": "code",
      "execution_count": null,
      "metadata": {
        "id": "69ad449e",
        "colab": {
          "base_uri": "https://localhost:8080/"
        },
        "outputId": "5d6923c5-2b23-4509-d1a1-57d1c3db9fd4"
      },
      "outputs": [
        {
          "output_type": "stream",
          "name": "stdout",
          "text": [
            "Processing ./dist/libindic-syllabifier-0.0.1.dev28.tar.gz\n",
            "  Preparing metadata (setup.py) ... \u001b[?25l\u001b[?25hdone\n",
            "Collecting silpa_common (from libindic-syllabifier==0.0.1.dev28)\n",
            "  Downloading silpa_common-0.3.tar.gz (9.4 kB)\n",
            "  Preparing metadata (setup.py) ... \u001b[?25l\u001b[?25hdone\n",
            "Building wheels for collected packages: libindic-syllabifier, silpa_common\n",
            "  Building wheel for libindic-syllabifier (setup.py) ... \u001b[?25l\u001b[?25hdone\n",
            "  Created wheel for libindic-syllabifier: filename=libindic_syllabifier-0.0.1.dev28-py2.py3-none-any.whl size=8123 sha256=812bee3d0903c22ca89f48ff59216fc96f382247eb23b09a2691f1613e2617a8\n",
            "  Stored in directory: /root/.cache/pip/wheels/d2/50/19/e2620530fc718493df9f5bca90d23db025cc864b9c7c0a98ef\n",
            "  Building wheel for silpa_common (setup.py) ... \u001b[?25l\u001b[?25hdone\n",
            "  Created wheel for silpa_common: filename=silpa_common-0.3-py3-none-any.whl size=8466 sha256=4a4b70a8e34efa22b03de2dbb2d99e1a9e9d49657ddf4efc7152bc69f120b3a5\n",
            "  Stored in directory: /root/.cache/pip/wheels/c0/72/43/0c779b79d708c78240beb3b0bb8f5ff3c2ab81c4e5271ea1aa\n",
            "Successfully built libindic-syllabifier silpa_common\n",
            "Installing collected packages: silpa_common, libindic-syllabifier\n",
            "Successfully installed libindic-syllabifier-0.0.1.dev28 silpa_common-0.3\n",
            "Collecting libindic-utils\n",
            "  Downloading libindic-utils-1.0.3.tar.gz (10 kB)\n",
            "  Preparing metadata (setup.py) ... \u001b[?25l\u001b[?25hdone\n",
            "Building wheels for collected packages: libindic-utils\n",
            "  Building wheel for libindic-utils (setup.py) ... \u001b[?25l\u001b[?25hdone\n",
            "  Created wheel for libindic-utils: filename=libindic_utils-1.0.3-py3-none-any.whl size=9686 sha256=e0807d6022dc4edfc786dc2fc70e2a65a09342185a12eca1a08e6ccc18e18c2a\n",
            "  Stored in directory: /root/.cache/pip/wheels/a9/50/5f/64d267b1b00db903376596b944d6d7ca80ad721254d6eff902\n",
            "Successfully built libindic-utils\n",
            "Installing collected packages: libindic-utils\n",
            "Successfully installed libindic-utils-1.0.3\n"
          ]
        }
      ],
      "source": [
        "!pip install dist/libindic-syllabifier*.tar.gz\n",
        "!pip install libindic-utils"
      ]
    },
    {
      "cell_type": "code",
      "execution_count": null,
      "metadata": {
        "id": "6284ae93"
      },
      "outputs": [],
      "source": [
        "from libindic.syllabifier import Syllabifier\n",
        "instance = Syllabifier()"
      ]
    },
    {
      "cell_type": "code",
      "execution_count": null,
      "metadata": {
        "id": "1b8c4488"
      },
      "outputs": [],
      "source": [
        "def syllable(word):\n",
        "    try:\n",
        "        sylbls = instance.syllabify(word)\n",
        "    except:\n",
        "        sylbls = list(word)\n",
        "    return sylbls"
      ]
    },
    {
      "cell_type": "code",
      "execution_count": null,
      "metadata": {
        "id": "b455b5a0"
      },
      "outputs": [],
      "source": [
        "# generate word n-grams\n",
        "\n",
        "def generate_N_grams(text, ngram=1):\n",
        "    words = [word for word in text.split(\" \")]  # if word not in set(stopwords.words('english'))]\n",
        "    temp = zip(*[words[i:] for i in range(0, ngram)])\n",
        "    ngrams = [' '.join(ngram) for ngram in temp]\n",
        "    return ngrams"
      ]
    },
    {
      "cell_type": "code",
      "execution_count": null,
      "metadata": {
        "id": "ee5e06af"
      },
      "outputs": [],
      "source": [
        "# import regex\n",
        "\n",
        "# def custom_analyzer(text):\n",
        "#     words = regex.findall(r'\\w{2,}', text) # extract words of at least 2 letters\n",
        "#     for w in words:\n",
        "#         yield w"
      ]
    },
    {
      "cell_type": "code",
      "execution_count": null,
      "metadata": {
        "id": "6c355b0e"
      },
      "outputs": [],
      "source": [
        "# generate syllable n-grams by specifying the value of n, by default ngram=1\n",
        "\n",
        "def generate_cN_grams(word, ngram=1):\n",
        "    sylbs = [sylbs for sylbs in syllable(word)]  # if word not in set(stopwords.words('english'))]\n",
        "    temp = zip(*[sylbs[i:] for i in range(0, ngram)])\n",
        "    ngrams = [''.join(ngram) for ngram in temp]\n",
        "    return ngrams"
      ]
    },
    {
      "cell_type": "code",
      "execution_count": null,
      "metadata": {
        "id": "ef7e4c0b"
      },
      "outputs": [],
      "source": [
        "# generate syllable n-grams in the range 'from' to 'to'. by default 'from'= 1\n",
        "\n",
        "def ngrams(text, r_to, r_from=1):\n",
        "    r_from = 1\n",
        "    r_to = 3\n",
        "    allngrams=[]\n",
        "    for word in text.split():\n",
        "        temp = []\n",
        "        for i in range(r_from + r_to - 1):\n",
        "            temp.extend(generate_cN_grams(word, i+1))\n",
        "            allngrams.append(temp)\n",
        "    n_grams = [item for sublist in allngrams for item in sublist]\n",
        "  # merged = list(itertools.chain(allngrams))\n",
        "    return n_grams"
      ]
    },
    {
      "cell_type": "code",
      "execution_count": null,
      "metadata": {
        "id": "f46dc420"
      },
      "outputs": [],
      "source": [
        "def custom_analyzer(text):\n",
        "    syngrams = ngrams(text,3)\n",
        "    return syngrams"
      ]
    },
    {
      "cell_type": "code",
      "execution_count": null,
      "metadata": {
        "id": "e3c48356"
      },
      "outputs": [],
      "source": [
        "tfidf_vectorizer = TfidfVectorizer(analyzer=custom_analyzer, max_features=5000)\n",
        "tfidf_vectorizer.fit_transform(df_train['clean_text'])\n",
        "train_tfidf =  tfidf_vectorizer.transform(df_train['clean_text'])\n",
        "dev_tfidf =  tfidf_vectorizer.transform(df_dev['clean_text'])\n",
        "test_tfidf =  tfidf_vectorizer.transform(df_test['clean_text'])"
      ]
    },
    {
      "cell_type": "code",
      "source": [
        "from sklearn.naive_bayes import MultinomialNB\n",
        "naive_bayes_classifier = MultinomialNB()\n",
        "naive_bayes_classifier.fit(train_tfidf, df_train['label'])\n",
        "NB_val_pred=naive_bayes_classifier.predict(dev_tfidf)"
      ],
      "metadata": {
        "id": "-Pm8RrKA0dd7"
      },
      "execution_count": null,
      "outputs": []
    },
    {
      "cell_type": "code",
      "source": [
        "from sklearn.metrics import classification_report\n",
        "print(classification_report(df_dev['label'], NB_val_pred))"
      ],
      "metadata": {
        "colab": {
          "base_uri": "https://localhost:8080/"
        },
        "id": "li6qVIF2-Mfa",
        "outputId": "3bb05a5e-a098-4868-fa4f-282c5771a6fd"
      },
      "execution_count": null,
      "outputs": [
        {
          "output_type": "stream",
          "name": "stdout",
          "text": [
            "              precision    recall  f1-score   support\n",
            "\n",
            "        Fake       0.81      0.86      0.83       406\n",
            "    original       0.85      0.80      0.83       409\n",
            "\n",
            "    accuracy                           0.83       815\n",
            "   macro avg       0.83      0.83      0.83       815\n",
            "weighted avg       0.83      0.83      0.83       815\n",
            "\n"
          ]
        }
      ]
    },
    {
      "cell_type": "code",
      "source": [
        "NB_pred = naive_bayes_classifier.predict(test_tfidf)"
      ],
      "metadata": {
        "id": "I3j3G8qo-JUM"
      },
      "execution_count": null,
      "outputs": []
    },
    {
      "cell_type": "code",
      "source": [
        "from sklearn.svm import LinearSVC\n",
        "LSVC =LinearSVC(C=1.0, class_weight=\"balanced\", max_iter=10000, random_state=123)\n",
        "LSVC.fit(train_tfidf, df_train['label'])\n",
        "val_pred=LSVC.predict(dev_tfidf)"
      ],
      "metadata": {
        "id": "SoITPsg7-07W"
      },
      "execution_count": null,
      "outputs": []
    },
    {
      "cell_type": "code",
      "source": [
        "from sklearn.metrics import classification_report\n",
        "print(classification_report(df_dev['label'], val_pred))"
      ],
      "metadata": {
        "colab": {
          "base_uri": "https://localhost:8080/"
        },
        "id": "HG23h4SY_a6S",
        "outputId": "8bae6988-3f7b-4c91-c097-f5e14071dcfc"
      },
      "execution_count": null,
      "outputs": [
        {
          "output_type": "stream",
          "name": "stdout",
          "text": [
            "              precision    recall  f1-score   support\n",
            "\n",
            "        Fake       0.86      0.81      0.84       406\n",
            "    original       0.82      0.87      0.85       409\n",
            "\n",
            "    accuracy                           0.84       815\n",
            "   macro avg       0.84      0.84      0.84       815\n",
            "weighted avg       0.84      0.84      0.84       815\n",
            "\n"
          ]
        }
      ]
    },
    {
      "cell_type": "code",
      "source": [
        "LSVCTest_pred = LSVC.predict(test_tfidf)"
      ],
      "metadata": {
        "id": "AHHw5gQq0jLr"
      },
      "execution_count": null,
      "outputs": []
    },
    {
      "cell_type": "code",
      "source": [
        "from sklearn.linear_model import LogisticRegression"
      ],
      "metadata": {
        "id": "Mp5-vccrMrdm"
      },
      "execution_count": null,
      "outputs": []
    },
    {
      "cell_type": "code",
      "source": [
        "log = LogisticRegression()\n",
        "log.fit(train_tfidf, df_train['label'])\n",
        "LR_pred = log.predict(dev_tfidf)\n",
        "print(classification_report(df_dev['label'], LR_pred))"
      ],
      "metadata": {
        "colab": {
          "base_uri": "https://localhost:8080/"
        },
        "id": "b45abZlwE8B7",
        "outputId": "350713e8-ea6b-4989-efb8-ba3929ad97b0"
      },
      "execution_count": null,
      "outputs": [
        {
          "output_type": "stream",
          "name": "stdout",
          "text": [
            "              precision    recall  f1-score   support\n",
            "\n",
            "        Fake       0.82      0.83      0.82       406\n",
            "    original       0.83      0.81      0.82       409\n",
            "\n",
            "    accuracy                           0.82       815\n",
            "   macro avg       0.82      0.82      0.82       815\n",
            "weighted avg       0.82      0.82      0.82       815\n",
            "\n"
          ]
        }
      ]
    },
    {
      "cell_type": "code",
      "source": [
        "LR_pred_test = log.predict(test_tfidf)\n",
        "LR_pred_test"
      ],
      "metadata": {
        "colab": {
          "base_uri": "https://localhost:8080/"
        },
        "id": "1bbfyhz0E86q",
        "outputId": "f3d96789-b140-4d9c-ff37-69af534dbde1"
      },
      "execution_count": null,
      "outputs": [
        {
          "output_type": "execute_result",
          "data": {
            "text/plain": [
              "array(['original', 'Fake', 'original', ..., 'original', 'Fake',\n",
              "       'original'], dtype=object)"
            ]
          },
          "metadata": {},
          "execution_count": 56
        }
      ]
    },
    {
      "cell_type": "code",
      "source": [
        "import sklearn\n",
        "from sklearn import svm"
      ],
      "metadata": {
        "id": "ExAGGl60JszI"
      },
      "execution_count": null,
      "outputs": []
    },
    {
      "cell_type": "code",
      "source": [
        "sv = svm.SVC(kernel='linear')\n",
        "sv.fit(train_tfidf, df_train['label'])\n",
        "SVM_pred= sv.predict(dev_tfidf)\n",
        "print(classification_report(df_dev['label'], SVM_pred))"
      ],
      "metadata": {
        "colab": {
          "base_uri": "https://localhost:8080/"
        },
        "id": "WsndlP0-FNKi",
        "outputId": "716431bc-4bbc-45ae-f947-d8b2e97460e6"
      },
      "execution_count": null,
      "outputs": [
        {
          "output_type": "stream",
          "name": "stdout",
          "text": [
            "              precision    recall  f1-score   support\n",
            "\n",
            "        Fake       0.85      0.82      0.83       406\n",
            "    original       0.82      0.85      0.84       409\n",
            "\n",
            "    accuracy                           0.83       815\n",
            "   macro avg       0.83      0.83      0.83       815\n",
            "weighted avg       0.83      0.83      0.83       815\n",
            "\n"
          ]
        }
      ]
    },
    {
      "cell_type": "code",
      "source": [
        "SVM_pred_test= sv.predict(test_tfidf)"
      ],
      "metadata": {
        "id": "y5OJwotaFNz5"
      },
      "execution_count": null,
      "outputs": []
    },
    {
      "cell_type": "code",
      "source": [
        "from sklearn.neighbors import KNeighborsClassifier\n",
        "knn = KNeighborsClassifier(n_neighbors=7)\n",
        "knn.fit(train_tfidf, df_train['label'])\n",
        "Knn_pred=knn.predict(dev_tfidf)\n",
        "print(classification_report(df_dev['label'], Knn_pred))"
      ],
      "metadata": {
        "id": "FX_rhVNIFdBr",
        "colab": {
          "base_uri": "https://localhost:8080/"
        },
        "outputId": "e794f452-64ce-4924-cba7-26e9f54d7bd4"
      },
      "execution_count": null,
      "outputs": [
        {
          "output_type": "stream",
          "name": "stdout",
          "text": [
            "              precision    recall  f1-score   support\n",
            "\n",
            "        Fake       0.67      0.89      0.76       406\n",
            "    original       0.84      0.56      0.67       409\n",
            "\n",
            "    accuracy                           0.72       815\n",
            "   macro avg       0.75      0.72      0.72       815\n",
            "weighted avg       0.75      0.72      0.72       815\n",
            "\n"
          ]
        }
      ]
    },
    {
      "cell_type": "code",
      "source": [
        "Knn_pred_test=knn.predict(test_tfidf)"
      ],
      "metadata": {
        "id": "SXxFNfwhFdly"
      },
      "execution_count": null,
      "outputs": []
    },
    {
      "cell_type": "code",
      "source": [
        "from sklearn.ensemble import VotingClassifier\n",
        "voting = VotingClassifier(\n",
        "    estimators=[('LinearSVCn', LSVC),('SVM', sv),('MultinomialNB', naive_bayes_classifier)],\n",
        "    voting='hard')"
      ],
      "metadata": {
        "id": "Wam-aNVoFd88"
      },
      "execution_count": null,
      "outputs": []
    },
    {
      "cell_type": "code",
      "source": [
        "voting.fit(train_tfidf, df_train['label'])"
      ],
      "metadata": {
        "id": "wwDSohXPFnhp",
        "colab": {
          "base_uri": "https://localhost:8080/",
          "height": 110
        },
        "outputId": "08d7dc9e-1850-4905-84d5-9701e178df75"
      },
      "execution_count": null,
      "outputs": [
        {
          "output_type": "execute_result",
          "data": {
            "text/plain": [
              "VotingClassifier(estimators=[('LinearSVCn',\n",
              "                              LinearSVC(class_weight='balanced', max_iter=10000,\n",
              "                                        random_state=123)),\n",
              "                             ('SVM', SVC(kernel='linear')),\n",
              "                             ('MultinomialNB', MultinomialNB())])"
            ],
            "text/html": [
              "<style>#sk-container-id-1 {color: black;background-color: white;}#sk-container-id-1 pre{padding: 0;}#sk-container-id-1 div.sk-toggleable {background-color: white;}#sk-container-id-1 label.sk-toggleable__label {cursor: pointer;display: block;width: 100%;margin-bottom: 0;padding: 0.3em;box-sizing: border-box;text-align: center;}#sk-container-id-1 label.sk-toggleable__label-arrow:before {content: \"▸\";float: left;margin-right: 0.25em;color: #696969;}#sk-container-id-1 label.sk-toggleable__label-arrow:hover:before {color: black;}#sk-container-id-1 div.sk-estimator:hover label.sk-toggleable__label-arrow:before {color: black;}#sk-container-id-1 div.sk-toggleable__content {max-height: 0;max-width: 0;overflow: hidden;text-align: left;background-color: #f0f8ff;}#sk-container-id-1 div.sk-toggleable__content pre {margin: 0.2em;color: black;border-radius: 0.25em;background-color: #f0f8ff;}#sk-container-id-1 input.sk-toggleable__control:checked~div.sk-toggleable__content {max-height: 200px;max-width: 100%;overflow: auto;}#sk-container-id-1 input.sk-toggleable__control:checked~label.sk-toggleable__label-arrow:before {content: \"▾\";}#sk-container-id-1 div.sk-estimator input.sk-toggleable__control:checked~label.sk-toggleable__label {background-color: #d4ebff;}#sk-container-id-1 div.sk-label input.sk-toggleable__control:checked~label.sk-toggleable__label {background-color: #d4ebff;}#sk-container-id-1 input.sk-hidden--visually {border: 0;clip: rect(1px 1px 1px 1px);clip: rect(1px, 1px, 1px, 1px);height: 1px;margin: -1px;overflow: hidden;padding: 0;position: absolute;width: 1px;}#sk-container-id-1 div.sk-estimator {font-family: monospace;background-color: #f0f8ff;border: 1px dotted black;border-radius: 0.25em;box-sizing: border-box;margin-bottom: 0.5em;}#sk-container-id-1 div.sk-estimator:hover {background-color: #d4ebff;}#sk-container-id-1 div.sk-parallel-item::after {content: \"\";width: 100%;border-bottom: 1px solid gray;flex-grow: 1;}#sk-container-id-1 div.sk-label:hover label.sk-toggleable__label {background-color: #d4ebff;}#sk-container-id-1 div.sk-serial::before {content: \"\";position: absolute;border-left: 1px solid gray;box-sizing: border-box;top: 0;bottom: 0;left: 50%;z-index: 0;}#sk-container-id-1 div.sk-serial {display: flex;flex-direction: column;align-items: center;background-color: white;padding-right: 0.2em;padding-left: 0.2em;position: relative;}#sk-container-id-1 div.sk-item {position: relative;z-index: 1;}#sk-container-id-1 div.sk-parallel {display: flex;align-items: stretch;justify-content: center;background-color: white;position: relative;}#sk-container-id-1 div.sk-item::before, #sk-container-id-1 div.sk-parallel-item::before {content: \"\";position: absolute;border-left: 1px solid gray;box-sizing: border-box;top: 0;bottom: 0;left: 50%;z-index: -1;}#sk-container-id-1 div.sk-parallel-item {display: flex;flex-direction: column;z-index: 1;position: relative;background-color: white;}#sk-container-id-1 div.sk-parallel-item:first-child::after {align-self: flex-end;width: 50%;}#sk-container-id-1 div.sk-parallel-item:last-child::after {align-self: flex-start;width: 50%;}#sk-container-id-1 div.sk-parallel-item:only-child::after {width: 0;}#sk-container-id-1 div.sk-dashed-wrapped {border: 1px dashed gray;margin: 0 0.4em 0.5em 0.4em;box-sizing: border-box;padding-bottom: 0.4em;background-color: white;}#sk-container-id-1 div.sk-label label {font-family: monospace;font-weight: bold;display: inline-block;line-height: 1.2em;}#sk-container-id-1 div.sk-label-container {text-align: center;}#sk-container-id-1 div.sk-container {/* jupyter's `normalize.less` sets `[hidden] { display: none; }` but bootstrap.min.css set `[hidden] { display: none !important; }` so we also need the `!important` here to be able to override the default hidden behavior on the sphinx rendered scikit-learn.org. See: https://github.com/scikit-learn/scikit-learn/issues/21755 */display: inline-block !important;position: relative;}#sk-container-id-1 div.sk-text-repr-fallback {display: none;}</style><div id=\"sk-container-id-1\" class=\"sk-top-container\"><div class=\"sk-text-repr-fallback\"><pre>VotingClassifier(estimators=[(&#x27;LinearSVCn&#x27;,\n",
              "                              LinearSVC(class_weight=&#x27;balanced&#x27;, max_iter=10000,\n",
              "                                        random_state=123)),\n",
              "                             (&#x27;SVM&#x27;, SVC(kernel=&#x27;linear&#x27;)),\n",
              "                             (&#x27;MultinomialNB&#x27;, MultinomialNB())])</pre><b>In a Jupyter environment, please rerun this cell to show the HTML representation or trust the notebook. <br />On GitHub, the HTML representation is unable to render, please try loading this page with nbviewer.org.</b></div><div class=\"sk-container\" hidden><div class=\"sk-item sk-dashed-wrapped\"><div class=\"sk-label-container\"><div class=\"sk-label sk-toggleable\"><input class=\"sk-toggleable__control sk-hidden--visually\" id=\"sk-estimator-id-1\" type=\"checkbox\" ><label for=\"sk-estimator-id-1\" class=\"sk-toggleable__label sk-toggleable__label-arrow\">VotingClassifier</label><div class=\"sk-toggleable__content\"><pre>VotingClassifier(estimators=[(&#x27;LinearSVCn&#x27;,\n",
              "                              LinearSVC(class_weight=&#x27;balanced&#x27;, max_iter=10000,\n",
              "                                        random_state=123)),\n",
              "                             (&#x27;SVM&#x27;, SVC(kernel=&#x27;linear&#x27;)),\n",
              "                             (&#x27;MultinomialNB&#x27;, MultinomialNB())])</pre></div></div></div><div class=\"sk-parallel\"><div class=\"sk-parallel-item\"><div class=\"sk-item\"><div class=\"sk-label-container\"><div class=\"sk-label sk-toggleable\"><label>LinearSVCn</label></div></div><div class=\"sk-serial\"><div class=\"sk-item\"><div class=\"sk-estimator sk-toggleable\"><input class=\"sk-toggleable__control sk-hidden--visually\" id=\"sk-estimator-id-2\" type=\"checkbox\" ><label for=\"sk-estimator-id-2\" class=\"sk-toggleable__label sk-toggleable__label-arrow\">LinearSVC</label><div class=\"sk-toggleable__content\"><pre>LinearSVC(class_weight=&#x27;balanced&#x27;, max_iter=10000, random_state=123)</pre></div></div></div></div></div></div><div class=\"sk-parallel-item\"><div class=\"sk-item\"><div class=\"sk-label-container\"><div class=\"sk-label sk-toggleable\"><label>SVM</label></div></div><div class=\"sk-serial\"><div class=\"sk-item\"><div class=\"sk-estimator sk-toggleable\"><input class=\"sk-toggleable__control sk-hidden--visually\" id=\"sk-estimator-id-3\" type=\"checkbox\" ><label for=\"sk-estimator-id-3\" class=\"sk-toggleable__label sk-toggleable__label-arrow\">SVC</label><div class=\"sk-toggleable__content\"><pre>SVC(kernel=&#x27;linear&#x27;)</pre></div></div></div></div></div></div><div class=\"sk-parallel-item\"><div class=\"sk-item\"><div class=\"sk-label-container\"><div class=\"sk-label sk-toggleable\"><label>MultinomialNB</label></div></div><div class=\"sk-serial\"><div class=\"sk-item\"><div class=\"sk-estimator sk-toggleable\"><input class=\"sk-toggleable__control sk-hidden--visually\" id=\"sk-estimator-id-4\" type=\"checkbox\" ><label for=\"sk-estimator-id-4\" class=\"sk-toggleable__label sk-toggleable__label-arrow\">MultinomialNB</label><div class=\"sk-toggleable__content\"><pre>MultinomialNB()</pre></div></div></div></div></div></div></div></div></div></div>"
            ]
          },
          "metadata": {},
          "execution_count": 63
        }
      ]
    },
    {
      "cell_type": "code",
      "source": [
        "voting_pred= voting.predict(dev_tfidf)\n",
        "print(classification_report(df_dev['label'], voting_pred))"
      ],
      "metadata": {
        "colab": {
          "base_uri": "https://localhost:8080/"
        },
        "id": "rFaLXFikOpCJ",
        "outputId": "acdcc77e-e086-4ce6-dedd-763010b607b2"
      },
      "execution_count": null,
      "outputs": [
        {
          "output_type": "stream",
          "name": "stdout",
          "text": [
            "              precision    recall  f1-score   support\n",
            "\n",
            "        Fake       0.84      0.82      0.83       406\n",
            "    original       0.82      0.85      0.84       409\n",
            "\n",
            "    accuracy                           0.83       815\n",
            "   macro avg       0.83      0.83      0.83       815\n",
            "weighted avg       0.83      0.83      0.83       815\n",
            "\n"
          ]
        }
      ]
    },
    {
      "cell_type": "code",
      "source": [
        "test_voting_pred= voting.predict(test_tfidf)"
      ],
      "metadata": {
        "id": "XxZ8pXnvOxl9"
      },
      "execution_count": null,
      "outputs": []
    },
    {
      "cell_type": "code",
      "source": [
        "len(test_voting_pred)"
      ],
      "metadata": {
        "colab": {
          "base_uri": "https://localhost:8080/"
        },
        "id": "Fhx6RgnZBVj6",
        "outputId": "cca40acd-5908-49f9-94cf-c75a4eee714e"
      },
      "execution_count": null,
      "outputs": [
        {
          "output_type": "execute_result",
          "data": {
            "text/plain": [
              "1019"
            ]
          },
          "metadata": {},
          "execution_count": 66
        }
      ]
    }
  ]
}